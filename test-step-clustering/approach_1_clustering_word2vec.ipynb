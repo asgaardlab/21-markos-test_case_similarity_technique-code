{
 "cells": [
  {
   "cell_type": "markdown",
   "metadata": {},
   "source": [
    "## Approach 1 for clustering similar test steps in natural language"
   ]
  },
  {
   "cell_type": "markdown",
   "metadata": {},
   "source": [
    "* Text embedding technique: Word2Vec\n",
    "* Text similarity: Word Mover's Distance (WMD)\n",
    "* Clustering techniques: Hierarchical agglomerative clustering and K-means"
   ]
  },
  {
   "cell_type": "code",
   "execution_count": 1,
   "metadata": {},
   "outputs": [],
   "source": [
    "# Import necessary libraries\n",
    "import os\n",
    "import gc\n",
    "import pandas as pd\n",
    "import numpy as np\n",
    "import math\n",
    "import statistics as st\n",
    "import re\n",
    "import string\n",
    "import time\n",
    "import matplotlib.pyplot as plt\n",
    "\n",
    "# For word frequency\n",
    "from collections import defaultdict\n",
    "\n",
    "# ML libraries\n",
    "from sklearn.cluster import AgglomerativeClustering\n",
    "from sklearn.cluster import KMeans\n",
    "import scipy.cluster.hierarchy as sch\n",
    "import gensim\n",
    "from gensim.models import Word2Vec, Phrases, KeyedVectors\n",
    "\n",
    "# NLP libraries\n",
    "import nltk\n",
    "from nltk.corpus import stopwords \n",
    "from nltk.tokenize import RegexpTokenizer, word_tokenize, TweetTokenizer\n",
    "from nltk.stem import WordNetLemmatizer \n",
    "\n",
    "# To be used with hierarchical clustering\n",
    "from joblib import Memory\n",
    "\n",
    "# To save models\n",
    "import pickle"
   ]
  },
  {
   "cell_type": "code",
   "execution_count": null,
   "metadata": {},
   "outputs": [],
   "source": [
    "# Download wordnet data through nltk\n",
    "nltk.download('wordnet')"
   ]
  },
  {
   "cell_type": "markdown",
   "metadata": {},
   "source": [
    "### Data preprocessing functions"
   ]
  },
  {
   "cell_type": "code",
   "execution_count": 6,
   "metadata": {},
   "outputs": [],
   "source": [
    "# Function to compute number of unique words in df\n",
    "def get_number_unique_words(df):\n",
    "    words_list = list()\n",
    "    test_steps = list(df[\"Steps\"])\n",
    "    for step in test_steps:\n",
    "        for word in step:\n",
    "            words_list.append(word)\n",
    "    number_unique_words = len(set(words_list))\n",
    "    return number_unique_words"
   ]
  },
  {
   "cell_type": "code",
   "execution_count": 7,
   "metadata": {},
   "outputs": [],
   "source": [
    "# Function to compute number of unique words in df ('test case name' field)\n",
    "def get_number_unique_words_name(df):\n",
    "    words_list = list()\n",
    "    test_names = list(df[\"Case_Name\"])\n",
    "    for name in test_names:\n",
    "        for word in name:\n",
    "            words_list.append(word)\n",
    "    number_unique_words = len(set(words_list))\n",
    "    return number_unique_words"
   ]
  },
  {
   "cell_type": "code",
   "execution_count": 8,
   "metadata": {},
   "outputs": [],
   "source": [
    "# Function to get list of words that occur less than a certain number of times\n",
    "def get_word_frequency(df):\n",
    "    words_list = list()\n",
    "    test_steps = list(df[\"Steps\"])\n",
    "    for step in test_steps:\n",
    "        for word in step:\n",
    "            words_list.append(word)\n",
    "    unique_words_list = set(words_list)\n",
    "    word_occurrence_dict = {}\n",
    "    for each_word in unique_words_list:\n",
    "        word_occurrence_dict[each_word] = 0\n",
    "\n",
    "    for step in test_steps:\n",
    "        for word in step:\n",
    "            word_occurrence_dict[word] += 1\n",
    "            \n",
    "    ten_times_occurrence_words = list()\n",
    "    # get list of words that occur only once\n",
    "    for word, occurrence in word_occurrence_dict.items():\n",
    "        if occurrence < 2:\n",
    "            ten_times_occurrence_words.append(word)\n",
    "\n",
    "    return ten_times_occurrence_words"
   ]
  },
  {
   "cell_type": "code",
   "execution_count": 9,
   "metadata": {},
   "outputs": [],
   "source": [
    "# Function to get list of words that occur less than a certain number of times ('test case name' field)\n",
    "def get_word_frequency_name(df):\n",
    "    words_list = list()\n",
    "    test_names = list(df[\"Case_Name\"])\n",
    "    for name in test_names:\n",
    "        for word in name:\n",
    "            words_list.append(word)\n",
    "    unique_words_list = set(words_list)\n",
    "    word_occurrence_dict = {}\n",
    "    for each_word in unique_words_list:\n",
    "        word_occurrence_dict[each_word] = 0\n",
    "\n",
    "    for name in test_names:\n",
    "        for word in name:\n",
    "            word_occurrence_dict[word] += 1\n",
    "            \n",
    "    ten_times_occurrence_words = list()\n",
    "    # get list of words that occur only once\n",
    "    for word, occurrence in word_occurrence_dict.items():\n",
    "        if occurrence < 2:\n",
    "            ten_times_occurrence_words.append(word)\n",
    "\n",
    "    return ten_times_occurrence_words"
   ]
  },
  {
   "cell_type": "code",
   "execution_count": 10,
   "metadata": {},
   "outputs": [],
   "source": [
    "# Function to remove problematic/mispelled words from vocabulary\n",
    "def remove_problematic_words(df):\n",
    "    number_unique_words = get_number_unique_words(df)\n",
    "    print(\"Number of unique words across all test steps: \", number_unique_words)\n",
    "    \n",
    "    # load file with problematic words that exist in the test data\n",
    "    problematic_words = open('word2vec_vocab_problematic.txt', 'r')\n",
    "    problematic_words_list = list()\n",
    "    for word in problematic_words:\n",
    "        problematic_words_list.append(word.lstrip().rstrip())\n",
    "    \n",
    "    for index, row in df.iterrows():\n",
    "        step = row[\"Steps\"]\n",
    "        df.loc[index][\"Steps\"] = [elem for elem in step if not elem in problematic_words_list]\n",
    "        \n",
    "    number_unique_words = get_number_unique_words(df)\n",
    "    print(\"Number of unique words across all test steps after removing problematic words: \", number_unique_words)"
   ]
  },
  {
   "cell_type": "code",
   "execution_count": 11,
   "metadata": {},
   "outputs": [],
   "source": [
    "# function to fix problematic/mispelled words from vocabulary\n",
    "def fix_problematic_words(df):\n",
    "    number_unique_words = get_number_unique_words(df)\n",
    "    print(\"Number of unique words across all test steps: \", number_unique_words)\n",
    "    \n",
    "    # load file with problematic words that exist in the test data\n",
    "    problematic_words = open('word2vec_vocab_to_fix.txt', 'r')\n",
    "    problematic_words_dict = {}\n",
    "    for line in problematic_words:\n",
    "        full_line = line.split(':')\n",
    "        try:\n",
    "            problematic_words_dict[full_line[0]] = [x.replace('\\n', '') for x in full_line[1].split(',')]\n",
    "        except:\n",
    "            problematic_words_dict[full_line[0]] = full_line[1].replace('\\n', '')\n",
    "    \n",
    "    for index, row in df.iterrows():\n",
    "        step = row[\"Steps\"]\n",
    "        modified_step = list()\n",
    "        for word in step:\n",
    "            if word in problematic_words_dict:\n",
    "                modified_step.extend(problematic_words_dict[word])\n",
    "            else:\n",
    "                modified_step.append(word)\n",
    "        df.loc[index][\"Steps\"] = modified_step \n",
    "        \n",
    "    number_unique_words = get_number_unique_words(df)\n",
    "    print(\"Number of unique words across all test steps after fixing problematic words: \", number_unique_words)"
   ]
  },
  {
   "cell_type": "code",
   "execution_count": 19,
   "metadata": {},
   "outputs": [],
   "source": [
    "def preprocess_clean_data(df):\n",
    "    print(\"Cleaning test case name field...\")\n",
    "    print(\"Dataset size before preprocessing: \" , df.shape)\n",
    "    \n",
    "    # preprocessing and clean test name\n",
    "    \n",
    "    # replace url and similar structures (e.g, paths) with the keyword 'URL'\n",
    "    df[\"Case_Name\"] = df[\"Case_Name\"].apply(lambda x: re.sub(r'http\\S+', 'URL', x))\n",
    "    df[\"Case_Name\"] = df[\"Case_Name\"].apply(lambda x: re.sub('\\/[\\w-]*', '', x))\n",
    "    df[\"Case_Name\"] = df[\"Case_Name\"].apply(lambda x: re.sub(r'\\{[^)]*\\}', '', x))\n",
    "    \n",
    "    # lowercase the step descriptions\n",
    "    df[\"Case_Name\"] = df[\"Case_Name\"].apply(lambda x: x.lower())\n",
    "    \n",
    "    # remove digits and words with digits\n",
    "    df[\"Case_Name\"] = df[\"Case_Name\"].apply(lambda x: re.sub('\\w*\\d\\w*','', x))\n",
    "    \n",
    "    # remove punctuations\n",
    "    df[\"Case_Name\"] = df[\"Case_Name\"].apply(lambda x: re.sub('[%s]' % re.escape(string.punctuation), ' ', x))\n",
    "\n",
    "    # remove extra spaces\n",
    "    df[\"Case_Name\"] = df[\"Case_Name\"].apply(lambda x: re.sub(' +',' ',x))\n",
    "\n",
    "    # tokenization\n",
    "    df[\"Case_Name\"] = df[\"Case_Name\"].apply(lambda x: TweetTokenizer().tokenize(x))\n",
    "    number_unique_words = get_number_unique_words_name(df)\n",
    "    print(\"Number of unique words across all test names: \", number_unique_words)\n",
    "    \n",
    "    # stopword removal\n",
    "    stop_words = set(stopwords.words('english'))\n",
    "    df[\"Case_Name\"] = df[\"Case_Name\"].apply(lambda x: [w for w in x if not w in stop_words])\n",
    "    number_unique_words = get_number_unique_words_name(df)\n",
    "    print(\"Number of unique words in test names after stopword removal: \", number_unique_words)\n",
    "    \n",
    "    # lemmatization\n",
    "    lemmatizer = WordNetLemmatizer() \n",
    "    df[\"Case_Name\"] = df[\"Case_Name\"].apply(lambda x: [lemmatizer.lemmatize(w) for w in x])\n",
    "    \n",
    "    # remove words that occur a certain number of times\n",
    "    ten_times_occurrence_words = get_word_frequency_name(df)\n",
    "    print(\"Number of words that occurred only once in test case names: \", len(ten_times_occurrence_words))\n",
    "    \n",
    "    # list of words to be removed\n",
    "    for index, row in df.iterrows():\n",
    "        current_test_name = row[\"Case_Name\"]\n",
    "        list_words_to_remove = list()\n",
    "        for word in current_test_name:\n",
    "            if word in ten_times_occurrence_words:\n",
    "                list_words_to_remove.append(word)\n",
    "        \n",
    "        df.loc[index][\"Case_Name\"] = [elem for elem in current_test_name if not elem in list_words_to_remove]\n",
    "\n",
    "#     # remove single letters present in the data\n",
    "#     df[\"Name\"] = df[\"Name\"].apply(lambda x: [w for w in x if len(w.strip()) > 1])\n",
    "\n",
    "    # remove instances with empty names\n",
    "    df = df.loc[df[\"Case_Name\"] != '']\n",
    "    \n",
    "    number_unique_words = get_number_unique_words_name(df)\n",
    "    print(\"Number of unique words in test names in the end: \", number_unique_words)\n",
    "    print(\"Dataset size after preprocessing: \" , df.shape)"
   ]
  },
  {
   "cell_type": "markdown",
   "metadata": {},
   "source": [
    "### Read and preprocess files with test cases and build dataframe"
   ]
  },
  {
   "cell_type": "code",
   "execution_count": 20,
   "metadata": {},
   "outputs": [],
   "source": [
    "# Get data directory and list of xlsx files\n",
    "current_dir = os.getcwd() \n",
    "parent_dir = os.path.dirname(current_dir) + \"\\\\filtered_data\\\\\"\n",
    "xlsxfiles = [os.path.join(root, name)\n",
    "             for root, dirs, files in os.walk(parent_dir)\n",
    "             for name in files\n",
    "             if name.endswith((\".xlsx\"))]"
   ]
  },
  {
   "cell_type": "code",
   "execution_count": null,
   "metadata": {},
   "outputs": [],
   "source": [
    "# Declare pandas df to be populated\n",
    "column_names = [\"Type\", \"Key\", \"Case_Name\", \"Step_ID\", \"Steps\"]\n",
    "test_steps_df = pd.DataFrame(columns = column_names)\n",
    "\n",
    "# Index to add data to the df\n",
    "index_to_add = 0\n",
    "\n",
    "print(\"Reading input data...\")   \n",
    "for test_file in xlsxfiles:\n",
    "    # load data and iterate through it\n",
    "    test_data_df = pd.read_excel(test_file)\n",
    "    for index, row in test_data_df.iterrows():\n",
    "        current_type = row[\"Type\"]\n",
    "        current_key = row[\"Key\"]\n",
    "        current_name = row[\"Case_Name\"]\n",
    "        current_step_id = row[\"Step_ID\"]\n",
    "        current_steps = row[\"Steps\"]\n",
    "        test_steps_df.loc[index_to_add] = [current_type, current_key, current_name, current_step_id, current_steps]\n",
    "        index_to_add += 1\n",
    "\n",
    "print(\"Done!\")\n",
    "print(\"Shape of data => \", test_steps_df.shape)"
   ]
  },
  {
   "cell_type": "code",
   "execution_count": null,
   "metadata": {},
   "outputs": [],
   "source": [
    "# Call preprocessing function\n",
    "preprocess_clean_data(test_steps_df)"
   ]
  },
  {
   "cell_type": "code",
   "execution_count": null,
   "metadata": {},
   "outputs": [],
   "source": [
    "# Preprocess steps here as for some reason its not processing properly within the function\n",
    "# Replace urls with the keyword 'URL'\n",
    "test_steps_df[\"Steps\"] = test_steps_df[\"Steps\"].apply(lambda x: re.sub(r'http\\S+', 'URL', x))\n",
    "\n",
    "# Remove structures similar to urls (e.g, paths) \n",
    "test_steps_df[\"Steps\"] = test_steps_df[\"Steps\"].apply(lambda x: re.sub('\\/[\\w-]*', '', x))\n",
    "test_steps_df[\"Steps\"] = test_steps_df[\"Steps\"].apply(lambda x: re.sub(r'\\{[^)]*\\}', '', x))\n",
    "\n",
    "# Lowercase the step descriptions\n",
    "test_steps_df[\"Steps\"] = test_steps_df[\"Steps\"].apply(lambda x: x.lower())\n",
    "\n",
    "# Remove digits and words with digits\n",
    "test_steps_df[\"Steps\"] = test_steps_df[\"Steps\"].apply(lambda x: re.sub('\\w*\\d\\w*','', x))\n",
    "\n",
    "# Remove punctuations\n",
    "test_steps_df[\"Steps\"] = test_steps_df[\"Steps\"].apply(lambda x: re.sub('[%s]' % re.escape(string.punctuation), ' ', x))\n",
    "\n",
    "# Remove extra spaces\n",
    "test_steps_df[\"Steps\"] = test_steps_df[\"Steps\"].apply(lambda x: re.sub(' +',' ',x))\n",
    "\n",
    "# Tokenization\n",
    "test_steps_df[\"Steps\"] = test_steps_df[\"Steps\"].apply(lambda x: TweetTokenizer().tokenize(x))\n",
    "number_unique_words = get_number_unique_words(test_steps_df)\n",
    "print(\"Number of unique words across all test steps: \", number_unique_words)\n",
    "\n",
    "# Remove and fix mispelled words\n",
    "remove_problematic_words(test_steps_df)\n",
    "fix_problematic_words(test_steps_df)\n",
    "\n",
    "# Stopword removal\n",
    "stop_words = set(stopwords.words('english'))\n",
    "test_steps_df[\"Steps\"] = test_steps_df[\"Steps\"].apply(lambda x: [w for w in x if not w in stop_words])\n",
    "number_unique_words = get_number_unique_words(test_steps_df)\n",
    "print(\"Number of unique words in test steps after stopword removal: \", number_unique_words)\n",
    "\n",
    "# Lemmatization\n",
    "lemmatizer = WordNetLemmatizer() \n",
    "test_steps_df[\"Steps\"] = test_steps_df[\"Steps\"].apply(lambda x: [lemmatizer.lemmatize(w) for w in x])\n",
    "\n",
    "# Remove words that occur only once in all test fields\n",
    "ten_times_occurrence_words = get_word_frequency(test_steps_df)\n",
    "print(\"Number of words that occurred only once in test steps: \", len(ten_times_occurrence_words))\n",
    "\n",
    "for index, row in test_steps_df.iterrows():\n",
    "    current_test_step = row[\"Steps\"]\n",
    "    list_words_to_remove = list()\n",
    "    for word in current_test_step:\n",
    "        if word in ten_times_occurrence_words:\n",
    "            list_words_to_remove.append(word)\n",
    "\n",
    "    test_steps_df.loc[index][\"Steps\"] = [elem for elem in current_test_step if not elem in list_words_to_remove]\n",
    "\n",
    "number_unique_words = get_number_unique_words(test_steps_df)\n",
    "print(\"Number of unique words in test steps in the end: \", number_unique_words)\n",
    "print(\"Dataset size after preprocessing: \" , test_steps_df.shape)"
   ]
  },
  {
   "cell_type": "code",
   "execution_count": null,
   "metadata": {},
   "outputs": [],
   "source": [
    "# Print head of preprocessed dataset\n",
    "test_steps_df.head()"
   ]
  },
  {
   "cell_type": "code",
   "execution_count": 30,
   "metadata": {},
   "outputs": [
    {
     "name": "stdout",
     "output_type": "stream",
     "text": [
      "Length of list with training data:  15668\n"
     ]
    }
   ],
   "source": [
    "# Get only necessary fields to train word embedding models ('type', 'name', 'steps')\n",
    "# Note: 'type' is always a str, while 'name' and 'steps' are always lists (even if they have a single element)\n",
    "test_steps_training_list = list()\n",
    "for index, row in test_steps_df.iterrows():\n",
    "    temp_list = list()\n",
    "    if not pd.isnull(row[\"Type\"]):\n",
    "        temp_list.append(str(row[\"Type\"]))\n",
    "    \n",
    "    if isinstance(row[\"Case_Name\"], list):\n",
    "        for elem in row[\"Case_Name\"]:\n",
    "            temp_list.append(elem)\n",
    "    else:\n",
    "        if isinstance(row[\"Case_Name\"], str):\n",
    "            temp_list.append(row[\"Case_Name\"])\n",
    "\n",
    "    if isinstance(row[\"Steps\"], list):\n",
    "        for elem in row[\"Steps\"]:\n",
    "            temp_list.append(elem)\n",
    "    else:\n",
    "        if isinstance(row[\"Steps\"], str):\n",
    "            temp_list.append(row[\"Steps\"])\n",
    "            \n",
    "    # Build list of lists of tokens (words)\n",
    "    test_steps_training_list.append(temp_list)\n",
    "\n",
    "print(\"Length of list with training data: \" , len(test_steps_training_list))"
   ]
  },
  {
   "cell_type": "code",
   "execution_count": 31,
   "metadata": {},
   "outputs": [],
   "source": [
    "# Check if all elements of the training data is correct (words should be strings)\n",
    "for step in test_steps_training_list:\n",
    "    for word in step:\n",
    "        if not isinstance(word, str):\n",
    "            print(\"Error with data type!\")\n",
    "            break"
   ]
  },
  {
   "cell_type": "markdown",
   "metadata": {},
   "source": [
    "### Compute basic stats for the test steps"
   ]
  },
  {
   "cell_type": "code",
   "execution_count": null,
   "metadata": {},
   "outputs": [],
   "source": [
    "# Total number of test steps\n",
    "print(\"Total number of steps : \", len(test_steps_training_list))\n",
    "\n",
    "# Average number of word per test step, name, and type together\n",
    "total_number_words_steps = sum([len(steps) for steps in test_steps_training_list])\n",
    "avg_words_per_step = total_number_words_steps/len(test_steps_training_list)\n",
    "print(\"Average number of words per test step: \", avg_words_per_step)\n",
    "\n",
    "# Most frequent words\n",
    "word_freq = defaultdict(int)\n",
    "for step in test_steps_training_list:\n",
    "    for word in step:\n",
    "        word_freq[str(word)] += 1\n",
    "sorted(word_freq, key=word_freq.get, reverse=True)[:5]"
   ]
  },
  {
   "cell_type": "markdown",
   "metadata": {},
   "source": [
    "### Train word embedding model - Word2Vec"
   ]
  },
  {
   "cell_type": "code",
   "execution_count": 34,
   "metadata": {},
   "outputs": [],
   "source": [
    "# Set parameters\n",
    "num_features = 300    # Word vector dimensionality                      \n",
    "min_word_count = 2   # Minimum word count (this should hold for all existing words now - one-occurring words were already removed)                       \n",
    "num_workers = 4       # Number of threads to run in parallel (if necessary)\n",
    "context = 2         # Context window size                                                                                    \n",
    "downsampling = 1e-3   # Downsample setting for frequent words"
   ]
  },
  {
   "cell_type": "code",
   "execution_count": null,
   "metadata": {},
   "outputs": [],
   "source": [
    "start = time.time()\n",
    "my_model = Word2Vec(workers=num_workers,\n",
    "                   size=num_features,\n",
    "                   min_count = min_word_count,\n",
    "                   window = context,\n",
    "                   sample = downsampling)\n",
    "# default of sg=0 (CBOW) to match the default of the last version of word2vec.c from the original researchers\n",
    "\n",
    "my_model.build_vocab(test_steps_training_list)\n",
    "total_examples = my_model.corpus_count\n",
    "print(\"Size of initial vocabulary: \", len(my_model.wv.vocab.keys()))\n",
    "\n",
    "# Load pre-trained model (set your custom path to where the model is located)\n",
    "pre_trained_model_path = \"GoogleNews-vectors-negative300.bin\\\\GoogleNews-vectors-negative300.bin\"\n",
    "pre_trained_model = KeyedVectors.load_word2vec_format(pre_trained_model_path, binary=True)\n",
    "\n",
    "all_words = list(my_model.wv.vocab.keys())\n",
    "for each_word in all_words:\n",
    "    my_model.wv[each_word] = np.zeros(300)\n",
    "\n",
    "# Update vocabulary with our corpus (must set 'lockf' to 1.0 to update model vocabulary)\n",
    "my_model.build_vocab([list(pre_trained_model.vocab.keys())], update=True)\n",
    "my_model.intersect_word2vec_format(pre_trained_model_path, binary=True, lockf=1.0)\n",
    "\n",
    "# Get mean and sd of initialized word vectors\n",
    "word_vector_median_list = list()\n",
    "count_initiliazed = 0\n",
    "for each_word in all_words:\n",
    "    # if word vector was initialized\n",
    "    if any(my_model.wv[each_word] != 0):\n",
    "        word_vector_median_list.append(np.median(my_model.wv[each_word]))\n",
    "        count_initiliazed += 1\n",
    "print(\"Number of words already initialized : \" , count_initiliazed)\n",
    "\n",
    "# Define mean and sd for the normal distributions of medians        \n",
    "mu = np.mean(word_vector_median_list)\n",
    "sigma = np.std(word_vector_median_list)\n",
    "\n",
    "# Initialize the remaining word vectors (not present in the pre-trained model)\n",
    "count_manual_initiliazed = 0\n",
    "for each_word in all_words:\n",
    "    # if word vector was NOT initialized\n",
    "    if all(my_model.wv[each_word] == 0):\n",
    "        # initialize this word vector\n",
    "        new_word_vector = np.random.normal(mu, sigma, 300)\n",
    "        my_model.wv[each_word] = new_word_vector\n",
    "        count_manual_initiliazed += 1\n",
    "print(\"Number of words manually initialized : \" , count_manual_initiliazed)\n",
    "\n",
    "my_model.train(test_steps_training_list, total_examples=total_examples, epochs=15)\n",
    "end = time.time()\n",
    "print(f'Finished in {round(end-start,2)} second(s)')"
   ]
  },
  {
   "cell_type": "code",
   "execution_count": null,
   "metadata": {},
   "outputs": [],
   "source": [
    "# Examples of how we can use the trained model for word embedding\n",
    "print(my_model.predict_output_word(['launch', 'prodigy', 'select', 'device']), '\\n')\n",
    "print(my_model.wv.most_similar('epics'), '\\n')\n",
    "print(my_model.wv.doesnt_match(['wand', 'boot', 'house', 'weapon', 'hat']))"
   ]
  },
  {
   "cell_type": "code",
   "execution_count": 34,
   "metadata": {},
   "outputs": [],
   "source": [
    "# # save vocab (uncomment to save the model vocabulary)\n",
    "# out_file= open(\"word2vec_vocab.txt\", \"a\")\n",
    "# for word in list(my_model.wv.vocab):\n",
    "#     out_file.write(word + '\\n')\n",
    "# out_file.close()"
   ]
  },
  {
   "cell_type": "code",
   "execution_count": 40,
   "metadata": {},
   "outputs": [],
   "source": [
    "# Save the model (uncomment to save)\n",
    "path_save_model = 'appr_1_my_model.model'\n",
    "# my_model.save(path_save_model)\n",
    "\n",
    "# Load the model (uncomment to load)\n",
    "path_load_model = 'appr_1_my_model.model'\n",
    "# my_model = Word2Vec.load(path_loadmodel"
   ]
  },
  {
   "cell_type": "markdown",
   "metadata": {},
   "source": [
    "### Compute distance (WMD) between all pairs of test steps"
   ]
  },
  {
   "cell_type": "code",
   "execution_count": null,
   "metadata": {},
   "outputs": [],
   "source": [
    "# Build tuples with (step_id, step_text) - used to retrieve the step ID in the end (after the clustering) - and get only test steps for clustering\n",
    "step_id_text_tuple_list = list()\n",
    "test_steps_clustering_list = list()\n",
    "for index, row in test_steps_df.iterrows():\n",
    "    step_id = row[\"Step_ID\"]\n",
    "    step_text = row[\"Steps\"]\n",
    "    step_id_text_tuple_list.append((step_id,step_text))\n",
    "\n",
    "    temp_list = list()\n",
    "    if isinstance(row[\"Steps\"], list):\n",
    "        for elem in row[\"Steps\"]:\n",
    "            temp_list.append(elem)\n",
    "    else:\n",
    "        if isinstance(row[\"Steps\"], str):\n",
    "            temp_list.append(row[\"Steps\"])\n",
    "        \n",
    "    # build list of lists of tokens (words)\n",
    "    test_steps_clustering_list.append(temp_list)\n",
    "    \n",
    "print(\"Length of list of tuples:\" , len(step_id_text_tuple_list))\n",
    "print(\"Length of list with test steps: \" , len(test_steps_clustering_list))"
   ]
  },
  {
   "cell_type": "code",
   "execution_count": null,
   "metadata": {},
   "outputs": [],
   "source": [
    "# Remove empty steps\n",
    "index = 0\n",
    "steps_to_remove = list()\n",
    "for step in test_steps_clustering_list:\n",
    "    if len(step) == 0:\n",
    "        steps_to_remove.append(index)\n",
    "    index += 1\n",
    "\n",
    "step_id_text_tuple_list = [step_id_text_tuple_list[index] for index in range(len(step_id_text_tuple_list)) if not index in steps_to_remove]\n",
    "test_steps_clustering_list = [test_steps_clustering_list[index] for index in range(len(test_steps_clustering_list)) if not index in steps_to_remove]\n",
    "print(\"Length of list of tuples:\" , len(step_id_text_tuple_list))\n",
    "print(\"Length of list with test steps: \" , len(test_steps_clustering_list))"
   ]
  },
  {
   "cell_type": "code",
   "execution_count": 32,
   "metadata": {},
   "outputs": [],
   "source": [
    "# Assign the number of test steps to rows and cols and initialize distance matrix with zeros\n",
    "rows = cols = len(test_steps_clustering_list)\n",
    "dist_matrix = np.zeros((rows, cols))"
   ]
  },
  {
   "cell_type": "code",
   "execution_count": null,
   "metadata": {},
   "outputs": [],
   "source": [
    "start = time.perf_counter()\n",
    "print(\"Computing distances....\")\n",
    "for row in range(rows):\n",
    "    for col in range(row, cols):\n",
    "        computed_dist = my_model.wmdistance(test_steps_clustering_list[row], test_steps_clustering_list[col])\n",
    "        # Upper bound to avoid having inf values\n",
    "        if computed_dist > 1000:\n",
    "\t\t\tcomputed_dist = 1000\n",
    "        dist_matrix[row,col] = dist_matrix[col,row] = computed_dist\n",
    "\n",
    "finish = time.perf_counter()\n",
    "print(f'Finished in {round(finish-start,2)} second(s)')"
   ]
  },
  {
   "cell_type": "code",
   "execution_count": null,
   "metadata": {},
   "outputs": [],
   "source": [
    "# # save distance matrix\n",
    "path_save_dist_matrix = 'appr_1_dist_matrix.txt'\n",
    "# np.savetxt(path_save_dist_matrix, dist_matrix)\n",
    "\n",
    "# load distance matrix\n",
    "path_load_dist_matrix = 'appr_1_dist_matrix.txt'\n",
    "dist_matrix = np.loadtxt(path_load_dist_matrix)"
   ]
  },
  {
   "cell_type": "code",
   "execution_count": null,
   "metadata": {},
   "outputs": [],
   "source": [
    "# Print matrix's shape and check if it's correct\n",
    "dist_matrix.shape"
   ]
  },
  {
   "cell_type": "markdown",
   "metadata": {},
   "source": [
    "### Execute hierarchical agglomerative clustering and K-means"
   ]
  },
  {
   "cell_type": "code",
   "execution_count": 30,
   "metadata": {},
   "outputs": [],
   "source": [
    "# Function to compute the average word vector of a sentence (test step)\n",
    "def sent_avg_vector(sent, my_model, pre_trained_model):\n",
    "    list_word_vectors = list()\n",
    "    num_words = 0\n",
    "    for word in sent:\n",
    "        try:\n",
    "            list_word_vectors.append(my_model[word])\n",
    "        except:\n",
    "            try:\n",
    "                list_word_vectors.append(pre_trained_model[word])\n",
    "            except:\n",
    "                return np.zeros(300)\n",
    "        num_words += 1\n",
    "    sum_vectors = sum(list_word_vectors)\n",
    "    avg_vector = sum_vectors/num_words    \n",
    "    return avg_vector"
   ]
  },
  {
   "cell_type": "code",
   "execution_count": null,
   "metadata": {},
   "outputs": [],
   "source": [
    "# Compute average word vector\n",
    "avg_word_sentence_vectors = list()\n",
    "for sentence in test_steps_clustering_list:\n",
    "    if len(sentence) > 0:\n",
    "        avg_word_sentence_vectors.append(sent_avg_vector(sentence, my_model, pre_trained_model))  \n",
    "print(\"========================\")\n",
    "print(\"Number of test steps: \" , len(avg_word_sentence_vectors))\n",
    "print(\"Dimension of one vector (should be 300 for word2vec)\" , len(avg_word_sentence_vectors[0]))"
   ]
  },
  {
   "cell_type": "markdown",
   "metadata": {},
   "source": [
    "#### Load ground truth of similar test steps (to compute F-score)"
   ]
  },
  {
   "cell_type": "code",
   "execution_count": 34,
   "metadata": {},
   "outputs": [],
   "source": [
    "# Read excel files with ground truth of similar test steps (cannot be released due to sensitive information)\n",
    "ground_truth_dir = 'sample_manual_ground_truth/clusters/'\n",
    "sample_files = os.listdir(ground_truth_dir)"
   ]
  },
  {
   "cell_type": "code",
   "execution_count": 35,
   "metadata": {},
   "outputs": [],
   "source": [
    "manual_clusters_dict = {}\n",
    "for sample in sample_files:\n",
    "    sample_df = pd.read_excel(manual_sample_dir + sample)\n",
    "    for index, row in sample_df.iterrows():\n",
    "        cluster_id = row['cluster_id']\n",
    "        step_id = row['step_id']\n",
    "        if step_id in manual_clusters_dict:\n",
    "            existing_list = manual_clusters_dict[step_id]\n",
    "            existing_list.append(cluster_id)\n",
    "            manual_clusters_dict[step_id] = existing_list\n",
    "        else:\n",
    "            manual_clusters_dict[step_id] = [cluster_id]"
   ]
  },
  {
   "cell_type": "code",
   "execution_count": 36,
   "metadata": {},
   "outputs": [
    {
     "name": "stdout",
     "output_type": "stream",
     "text": [
      "Number of test step samples which were manually clustered:  394\n"
     ]
    }
   ],
   "source": [
    "print(\"Number of test step samples which were manually clustered: \", len(manual_clusters_dict))"
   ]
  },
  {
   "cell_type": "code",
   "execution_count": 37,
   "metadata": {},
   "outputs": [],
   "source": [
    "test_steps_to_evaluate_list = list(manual_clusters_dict.keys())"
   ]
  },
  {
   "cell_type": "code",
   "execution_count": null,
   "metadata": {},
   "outputs": [],
   "source": [
    "# Use F-score to tune number of clusters and evaluation\n",
    "aggl_model_list = list()\n",
    "kmeans_model_list = list()\n",
    "f_score_aggl_list = list()\n",
    "f_score_kmeans_list = list()\n",
    "\n",
    "start = time.time()\n",
    "\n",
    "# Iterate from 50 to 15,000 clusters\n",
    "for num_clusters in range(50, 15001, 50):\n",
    "    start = time.time()\n",
    "    print(\"Running for: \" + str(num_clusters) + \" clusters\")\n",
    "    aggl_clustering_model = AgglomerativeClustering(n_clusters=num_clusters, affinity='euclidean', linkage='average', memory=Memory('/tmp/memory_cache'))\n",
    "    aggl_clustering_model.fit(dist_matrix)\n",
    "    aggl_model_list.append(aggl_clustering_model)\n",
    "    labels = aggl_clustering_model.labels_\n",
    "    \n",
    "    # Compute f-score - declare and initialize variables to compute F-score\n",
    "    TP = 0\n",
    "    FP = 0\n",
    "    TN = 0\n",
    "    FN = 0\n",
    "\n",
    "    appr_clusters_dict = {}\n",
    "    for single_label in set(labels):\n",
    "        indices_label = np.where(labels == single_label)[0].tolist()\n",
    "        for ind in indices_label:\n",
    "            appr_clusters_dict[int(step_id_text_tuple_list[ind][0])] = single_label\n",
    "        \n",
    "    # Iterate through list of test steps to evaluate\n",
    "    for i in range(len(test_steps_to_evaluate_list)-1):\n",
    "        for j in range(i+1, len(test_steps_to_evaluate_list)):\n",
    "            step_id_1 = test_steps_to_evaluate_list[i]\n",
    "            step_id_2 = test_steps_to_evaluate_list[j]\n",
    "\n",
    "            # true positive case\n",
    "            if (manual_clusters_dict[step_id_1] == manual_clusters_dict[step_id_2]) and (appr_clusters_dict[step_id_1] == appr_clusters_dict[step_id_2]):\n",
    "                TP += 1\n",
    "\n",
    "            # false positive case\n",
    "            elif (manual_clusters_dict[step_id_1] != manual_clusters_dict[step_id_2]) and (appr_clusters_dict[step_id_1] == appr_clusters_dict[step_id_2]):\n",
    "                FP += 1\n",
    "\n",
    "            # false negative case\n",
    "            elif (manual_clusters_dict[step_id_1] == manual_clusters_dict[step_id_2]) and (appr_clusters_dict[step_id_1] != appr_clusters_dict[step_id_2]):\n",
    "                FN += 1\n",
    "\n",
    "            # true negative case\n",
    "            elif (manual_clusters_dict[step_id_1] != manual_clusters_dict[step_id_2]) and (appr_clusters_dict[step_id_1] != appr_clusters_dict[step_id_2]):\n",
    "                TN += 1\n",
    "    \n",
    "    precision = TP / (TP + FP)\n",
    "    recall = TP / (TP + FN)\n",
    "    f_score = (2 * precision * recall) / (precision + recall)\n",
    "    f_score_aggl_list.append(f_score)\n",
    "    \n",
    "    # Declare and initialize numpy ndarray for k means centroid initialization with shape: [n_clusters, n_features]\n",
    "    init_centroid_kmeans = np.zeros((num_clusters,300))\n",
    "\n",
    "    for single_label in set(labels):\n",
    "        indices_label = np.where(labels == single_label)[0].tolist()\n",
    "        sent_vectors_list = [avg_word_sentence_vectors[ind] for ind in indices_label]\n",
    "\n",
    "        # Compute average sentence vector between the selected sentences in 'sent_vectors_list'\n",
    "        avg_sent_vectors = sum(sent_vectors_list)/len(sent_vectors_list)\n",
    "        init_centroid_kmeans[single_label,:] = avg_sent_vectors    \n",
    "    \n",
    "    # Run K-Means with the computed centroids\n",
    "    kmeans = KMeans(n_clusters=num_clusters, init=init_centroid_kmeans, max_iter=300)\n",
    "    kmeans.fit(avg_word_sentence_vectors)\n",
    "    kmeans_model_list.append(kmeans)\n",
    "    labels = kmeans.labels_\n",
    "    \n",
    "    # Compute f-score - declare and initialize variables to compute F-score\n",
    "    TP = 0\n",
    "    FP = 0\n",
    "    TN = 0\n",
    "    FN = 0\n",
    "\n",
    "    appr_clusters_dict = {}\n",
    "    for single_label in set(labels):\n",
    "        indices_label = np.where(labels == single_label)[0].tolist()\n",
    "        for ind in indices_label:\n",
    "            appr_clusters_dict[int(step_id_text_tuple_list[ind][0])] = single_label\n",
    "        \n",
    "    # Tterate through list of steps to evaluate\n",
    "    for i in range(len(test_steps_to_evaluate_list)-1):\n",
    "        for j in range(i+1, len(test_steps_to_evaluate_list)):\n",
    "            step_id_1 = test_steps_to_evaluate_list[i]\n",
    "            step_id_2 = test_steps_to_evaluate_list[j]\n",
    "\n",
    "            # true positive case\n",
    "            if (manual_clusters_dict[step_id_1] == manual_clusters_dict[step_id_2]) and (appr_clusters_dict[step_id_1] == appr_clusters_dict[step_id_2]):\n",
    "                TP += 1\n",
    "\n",
    "            # false positive case\n",
    "            elif (manual_clusters_dict[step_id_1] != manual_clusters_dict[step_id_2]) and (appr_clusters_dict[step_id_1] == appr_clusters_dict[step_id_2]):\n",
    "                FP += 1\n",
    "\n",
    "            # false negative case\n",
    "            elif (manual_clusters_dict[step_id_1] == manual_clusters_dict[step_id_2]) and (appr_clusters_dict[step_id_1] != appr_clusters_dict[step_id_2]):\n",
    "                FN += 1\n",
    "\n",
    "            # true negative case\n",
    "            elif (manual_clusters_dict[step_id_1] != manual_clusters_dict[step_id_2]) and (appr_clusters_dict[step_id_1] != appr_clusters_dict[step_id_2]):\n",
    "                TN += 1\n",
    "    \n",
    "    precision = TP / (TP + FP)\n",
    "    recall = TP / (TP + FN)\n",
    "    f_score = (2 * precision * recall) / (precision + recall)\n",
    "    f_score_kmeans_list.append(f_score)    \n",
    "    \n",
    "    # Delete unnecessary variables to free memory up\n",
    "    del aggl_clustering_model\n",
    "    del kmeans\n",
    "    \n",
    "    end = time.time()\n",
    "    print(f'Finished in {round(end-start,2)} second(s)')"
   ]
  },
  {
   "cell_type": "markdown",
   "metadata": {},
   "source": [
    "### Analysis of hierarhical agglomerative clustering"
   ]
  },
  {
   "cell_type": "code",
   "execution_count": 45,
   "metadata": {},
   "outputs": [
    {
     "data": {
      "image/png": "[encoded data removed]",
      "text/plain": [
       "<Figure size 432x288 with 1 Axes>"
      ]
     },
     "metadata": {
      "needs_background": "light"
     },
     "output_type": "display_data"
    }
   ],
   "source": [
    "# Plot F-score against number of clusters\n",
    "plt.plot(list(range(50, 15001, 50)), f_score_aggl_list)\n",
    "plt.title('F-score - Agglomerative')\n",
    "plt.xlabel('Number of clusters')\n",
    "plt.ylabel('F-score')\n",
    "plt.show()"
   ]
  },
  {
   "cell_type": "code",
   "execution_count": 46,
   "metadata": {},
   "outputs": [
    {
     "name": "stdout",
     "output_type": "stream",
     "text": [
      "Best F-score:  0.8585086042065009\n",
      "Index of best F-score:  52\n"
     ]
    }
   ],
   "source": [
    "# Find max F-score and corresponding index\n",
    "max_score = max(f_score_aggl_list)\n",
    "max_index = f_score_aggl_list.index(max_score)\n",
    "print(\"Best F-score: \" , max_score)\n",
    "print(\"Index of best F-score: \", max_index)"
   ]
  },
  {
   "cell_type": "code",
   "execution_count": 47,
   "metadata": {},
   "outputs": [],
   "source": [
    "best_aggl_model = aggl_model_list[max_index]"
   ]
  },
  {
   "cell_type": "code",
   "execution_count": 48,
   "metadata": {},
   "outputs": [
    {
     "name": "stdout",
     "output_type": "stream",
     "text": [
      "Number of clusters of the best agglomerative model:  2650\n"
     ]
    }
   ],
   "source": [
    "# Get number of clusters of the best model\n",
    "best_aggl_model_num_clusters = best_aggl_model.n_clusters\n",
    "best_aggl_model_labels = best_aggl_model.labels_\n",
    "print(\"Number of clusters of the best agglomerative model: \", best_aggl_model_num_clusters)"
   ]
  },
  {
   "cell_type": "code",
   "execution_count": 53,
   "metadata": {},
   "outputs": [],
   "source": [
    "# save clustered data\n",
    "path_to_save_data = \"appr_1_clustered_data.txt\"\n",
    "out_cluster_file = open(path_to_save_data, \"a\")\n",
    "for single_label in set(best_aggl_model_labels):\n",
    "    indices_label = np.where(best_aggl_model_labels == single_label)[0].tolist()\n",
    "    for index in indices_label:\n",
    "        str_to_save = \"[\" + str(single_label) + \"]:\\t\\t\" + test_steps_df.loc[index][\"Key\"] + \"\\t\\t\" + str(step_id_text_tuple_list[index][0]) + \"\\t\\t\"+ str(test_steps_clustering_list[index]) + \"\\n\"\n",
    "        out_cluster_file.write(str_to_save)\n",
    "out_cluster_file.close()"
   ]
  },
  {
   "cell_type": "code",
   "execution_count": 54,
   "metadata": {},
   "outputs": [],
   "source": [
    "# save cluster labels (step IDs)\n",
    "path_to_save_labels = \"appr_1_cluster_labels.txt\"\n",
    "out_cluster_file = open(path_to_save_labels, \"a\")\n",
    "for single_label in set(best_aggl_model_labels):\n",
    "    indices_label = np.where(best_aggl_model_labels == single_label)[0].tolist()\n",
    "    str_to_save = \"[\" + str(single_label) + \"]: \" + ','.join(str(step_id_text_tuple_list[x][0]) for x in indices_label) + \"\\n\"\n",
    "    out_cluster_file.write(str_to_save)\n",
    "out_cluster_file.close()"
   ]
  },
  {
   "cell_type": "code",
   "execution_count": 55,
   "metadata": {},
   "outputs": [],
   "source": [
    "# save list of models and F-score\n",
    "model_index = 0\n",
    "aggl_models_path = \"results_approach_1/agglomerative_models/\"\n",
    "for aggl_model in aggl_model_list:\n",
    "    pickle.dump(aggl_model, open(aggl_models_path + \"agglomerative_model_\" + str(model_index) + \".pkl\", \"wb\"))\n",
    "    model_index += 1\n",
    "\n",
    "f_score_list_path = \"results_approach_1/appr_1_f_scores.txt\"\n",
    "np.savetxt(f_score_list_path, np.asarray(f_score_aggl_list))"
   ]
  },
  {
   "cell_type": "markdown",
   "metadata": {},
   "source": [
    "### Analysis of K-means clustering"
   ]
  },
  {
   "cell_type": "code",
   "execution_count": 56,
   "metadata": {},
   "outputs": [
    {
     "data": {
      "image/png": "[encoded data removed]",
      "text/plain": [
       "<Figure size 432x288 with 1 Axes>"
      ]
     },
     "metadata": {
      "needs_background": "light"
     },
     "output_type": "display_data"
    }
   ],
   "source": [
    "# Plot F-score against number of clusters\n",
    "plt.plot(list(range(50, 15001, 50)), f_score_kmeans_list)\n",
    "plt.title('F-score - K-Means')\n",
    "plt.xlabel('Number of clusters')\n",
    "plt.ylabel('F-score')\n",
    "plt.show()"
   ]
  },
  {
   "cell_type": "code",
   "execution_count": 57,
   "metadata": {},
   "outputs": [
    {
     "name": "stdout",
     "output_type": "stream",
     "text": [
      "Best F-score:  0.8698955365622032\n",
      "Index of best F-score:  52\n"
     ]
    }
   ],
   "source": [
    "# Find max F-score and corresponding index\n",
    "max_score = max(f_score_kmeans_list)\n",
    "max_index = f_score_kmeans_list.index(max_score)\n",
    "print(\"Best F-score: \" , max_score)\n",
    "print(\"Index of best F-score: \", max_index)"
   ]
  },
  {
   "cell_type": "code",
   "execution_count": 58,
   "metadata": {},
   "outputs": [],
   "source": [
    "best_kmeans_model = kmeans_model_list[max_index]"
   ]
  },
  {
   "cell_type": "code",
   "execution_count": 59,
   "metadata": {},
   "outputs": [
    {
     "name": "stdout",
     "output_type": "stream",
     "text": [
      "Number of clusters of the best k-means model:  2650\n",
      "Number of non-empty clusters of the best k-means model:  2650\n"
     ]
    }
   ],
   "source": [
    "# Get number of clusters of the best model\n",
    "best_kmeans_model_num_clusters = best_kmeans_model.n_clusters\n",
    "best_kmeans_model_labels = best_kmeans_model.labels_\n",
    "print(\"Number of clusters of the best k-means model: \", best_kmeans_model_num_clusters)\n",
    "print(\"Number of non-empty clusters of the best k-means model: \", len(set(best_kmeans_model.labels_)))"
   ]
  },
  {
   "cell_type": "code",
   "execution_count": 60,
   "metadata": {},
   "outputs": [],
   "source": [
    "# save clustered data\n",
    "path_to_save_data = \"results_approach_1_kmeans/appr_1_kmeans_clustered_data.txt\"\n",
    "out_cluster_file = open(path_to_save_data, \"a\")\n",
    "for single_label in set(best_kmeans_model_labels):\n",
    "    indices_label = np.where(best_kmeans_model_labels == single_label)[0].tolist()\n",
    "    for index in indices_label:\n",
    "        str_to_save = \"[\" + str(single_label) + \"]:\\t\\t\" + test_steps_df.loc[index][\"Key\"] + \"\\t\\t\" + str(step_id_text_tuple_list[index][0]) + \"\\t\\t\"+ str(test_steps_clustering_list[index]) + \"\\n\"\n",
    "        out_cluster_file.write(str_to_save)\n",
    "out_cluster_file.close()"
   ]
  },
  {
   "cell_type": "code",
   "execution_count": 61,
   "metadata": {},
   "outputs": [],
   "source": [
    "# save cluster labels (step IDs)\n",
    "path_to_save_labels = \"appr_1_kmeans_cluster_labels.txt\"\n",
    "out_cluster_file = open(path_to_save_labels, \"a\")\n",
    "for single_label in set(best_kmeans_model_labels):\n",
    "    indices_label = np.where(best_kmeans_model_labels == single_label)[0].tolist()\n",
    "    str_to_save = \"[\" + str(single_label) + \"]: \" + ','.join(str(step_id_text_tuple_list[x][0]) for x in indices_label) + \"\\n\"\n",
    "    out_cluster_file.write(str_to_save)\n",
    "out_cluster_file.close()"
   ]
  },
  {
   "cell_type": "code",
   "execution_count": 62,
   "metadata": {},
   "outputs": [],
   "source": [
    "# save list of models and F-score\n",
    "model_index = 0\n",
    "kmeans_models_path = \"results_approach_1/kmeans_models/\"\n",
    "for kmeans_model in kmeans_model_list:\n",
    "    pickle.dump(kmeans_model, open(kmeans_models_path + \"kmeans_model_\" + str(model_index) + \".pkl\", \"wb\"))\n",
    "    model_index += 1\n",
    "\n",
    "f_score_list_path = \"results_approach_1/appr_1_kmeans_f_scores.txt\"\n",
    "np.savetxt(f_score_list_path, np.asarray(f_score_kmeans_list))"
   ]
  }
 ],
 "metadata": {
  "kernelspec": {
   "display_name": "Python 3",
   "language": "python",
   "name": "python3"
  },
  "language_info": {
   "codemirror_mode": {
    "name": "ipython",
    "version": 3
   },
   "file_extension": ".py",
   "mimetype": "text/x-python",
   "name": "python",
   "nbconvert_exporter": "python",
   "pygments_lexer": "ipython3",
   "version": "3.6.8"
  }
 },
 "nbformat": 4,
 "nbformat_minor": 2
}
