{
 "cells": [
  {
   "cell_type": "markdown",
   "metadata": {},
   "source": [
    "## Baseline 2 for clustering similar test steps in natural language "
   ]
  },
  {
   "cell_type": "markdown",
   "metadata": {},
   "source": [
    "Assign test steps to the same cluster if the distance (WMD) between their embeddings is zero, i.e., they have the same embeddings\n",
    "* Text embedding technique: Word2Vec\n",
    "* Text similarity: Word Mover's Distance (WMD)"
   ]
  },
  {
   "cell_type": "code",
   "execution_count": 1,
   "metadata": {},
   "outputs": [],
   "source": [
    "# Import necessary libraries\n",
    "import os\n",
    "import gc\n",
    "import pandas as pd\n",
    "import numpy as np\n",
    "import math\n",
    "import statistics as st\n",
    "import re\n",
    "import string\n",
    "import time\n",
    "import matplotlib.pyplot as plt\n",
    "\n",
    "# For word frequency\n",
    "from collections import defaultdict\n",
    "\n",
    "# ML libraries\n",
    "from sklearn.cluster import AgglomerativeClustering\n",
    "from sklearn.cluster import KMeans\n",
    "import scipy.cluster.hierarchy as sch\n",
    "import gensim\n",
    "from gensim.models import Word2Vec, Phrases, KeyedVectors\n",
    "\n",
    "# NLP libraries\n",
    "import nltk\n",
    "from nltk.corpus import stopwords \n",
    "from nltk.tokenize import RegexpTokenizer, word_tokenize, TweetTokenizer\n",
    "from nltk.stem import WordNetLemmatizer \n",
    "\n",
    "# To be used with hierarchical clustering\n",
    "from joblib import Memory\n",
    "\n",
    "# To save models\n",
    "import pickle"
   ]
  },
  {
   "cell_type": "code",
   "execution_count": null,
   "metadata": {},
   "outputs": [],
   "source": [
    "# Download wordnet data through nltk\n",
    "nltk.download('wordnet')"
   ]
  },
  {
   "cell_type": "markdown",
   "metadata": {},
   "source": [
    "### Data preprocessing functions"
   ]
  },
  {
   "cell_type": "code",
   "execution_count": 6,
   "metadata": {},
   "outputs": [],
   "source": [
    "# Function to compute number of unique words in df\n",
    "def get_number_unique_words(df):\n",
    "    words_list = list()\n",
    "    test_steps = list(df[\"Steps\"])\n",
    "    for step in test_steps:\n",
    "        for word in step:\n",
    "            words_list.append(word)\n",
    "    number_unique_words = len(set(words_list))\n",
    "    return number_unique_words"
   ]
  },
  {
   "cell_type": "code",
   "execution_count": 7,
   "metadata": {},
   "outputs": [],
   "source": [
    "# Function to compute number of unique words in df ('test case name' field)\n",
    "def get_number_unique_words_name(df):\n",
    "    words_list = list()\n",
    "    test_names = list(df[\"Case_Name\"])\n",
    "    for name in test_names:\n",
    "        for word in name:\n",
    "            words_list.append(word)\n",
    "    number_unique_words = len(set(words_list))\n",
    "    return number_unique_words"
   ]
  },
  {
   "cell_type": "code",
   "execution_count": 8,
   "metadata": {},
   "outputs": [],
   "source": [
    "# Function to get list of words that occur less than a certain number of times\n",
    "def get_word_frequency(df):\n",
    "    words_list = list()\n",
    "    test_steps = list(df[\"Steps\"])\n",
    "    for step in test_steps:\n",
    "        for word in step:\n",
    "            words_list.append(word)\n",
    "    unique_words_list = set(words_list)\n",
    "    word_occurrence_dict = {}\n",
    "    for each_word in unique_words_list:\n",
    "        word_occurrence_dict[each_word] = 0\n",
    "\n",
    "    for step in test_steps:\n",
    "        for word in step:\n",
    "            word_occurrence_dict[word] += 1\n",
    "            \n",
    "    ten_times_occurrence_words = list()\n",
    "    # get list of words that occur only once\n",
    "    for word, occurrence in word_occurrence_dict.items():\n",
    "        if occurrence < 2:\n",
    "            ten_times_occurrence_words.append(word)\n",
    "\n",
    "    return ten_times_occurrence_words"
   ]
  },
  {
   "cell_type": "code",
   "execution_count": 9,
   "metadata": {},
   "outputs": [],
   "source": [
    "# Function to get list of words that occur less than a certain number of times ('test case name' field)\n",
    "def get_word_frequency_name(df):\n",
    "    words_list = list()\n",
    "    test_names = list(df[\"Case_Name\"])\n",
    "    for name in test_names:\n",
    "        for word in name:\n",
    "            words_list.append(word)\n",
    "    unique_words_list = set(words_list)\n",
    "    word_occurrence_dict = {}\n",
    "    for each_word in unique_words_list:\n",
    "        word_occurrence_dict[each_word] = 0\n",
    "\n",
    "    for name in test_names:\n",
    "        for word in name:\n",
    "            word_occurrence_dict[word] += 1\n",
    "            \n",
    "    ten_times_occurrence_words = list()\n",
    "    # get list of words that occur only once\n",
    "    for word, occurrence in word_occurrence_dict.items():\n",
    "        if occurrence < 2:\n",
    "            ten_times_occurrence_words.append(word)\n",
    "\n",
    "    return ten_times_occurrence_words"
   ]
  },
  {
   "cell_type": "code",
   "execution_count": 10,
   "metadata": {},
   "outputs": [],
   "source": [
    "# Function to remove problematic/mispelled words from vocabulary\n",
    "def remove_problematic_words(df):\n",
    "    number_unique_words = get_number_unique_words(df)\n",
    "    print(\"Number of unique words across all test steps: \", number_unique_words)\n",
    "    \n",
    "    # load file with problematic words that exist in the test data\n",
    "    problematic_words = open('word2vec_vocab_problematic.txt', 'r')\n",
    "    problematic_words_list = list()\n",
    "    for word in problematic_words:\n",
    "        problematic_words_list.append(word.lstrip().rstrip())\n",
    "    \n",
    "    for index, row in df.iterrows():\n",
    "        step = row[\"Steps\"]\n",
    "        df.loc[index][\"Steps\"] = [elem for elem in step if not elem in problematic_words_list]\n",
    "        \n",
    "    number_unique_words = get_number_unique_words(df)\n",
    "    print(\"Number of unique words across all test steps after removing problematic words: \", number_unique_words)"
   ]
  },
  {
   "cell_type": "code",
   "execution_count": 11,
   "metadata": {},
   "outputs": [],
   "source": [
    "# function to fix problematic/mispelled words from vocabulary\n",
    "def fix_problematic_words(df):\n",
    "    number_unique_words = get_number_unique_words(df)\n",
    "    print(\"Number of unique words across all test steps: \", number_unique_words)\n",
    "    \n",
    "    # load file with problematic words that exist in the test data\n",
    "    problematic_words = open('word2vec_vocab_to_fix.txt', 'r')\n",
    "    problematic_words_dict = {}\n",
    "    for line in problematic_words:\n",
    "        full_line = line.split(':')\n",
    "        try:\n",
    "            problematic_words_dict[full_line[0]] = [x.replace('\\n', '') for x in full_line[1].split(',')]\n",
    "        except:\n",
    "            problematic_words_dict[full_line[0]] = full_line[1].replace('\\n', '')\n",
    "    \n",
    "    for index, row in df.iterrows():\n",
    "        step = row[\"Steps\"]\n",
    "        modified_step = list()\n",
    "        for word in step:\n",
    "            if word in problematic_words_dict:\n",
    "                modified_step.extend(problematic_words_dict[word])\n",
    "            else:\n",
    "                modified_step.append(word)\n",
    "        df.loc[index][\"Steps\"] = modified_step \n",
    "        \n",
    "    number_unique_words = get_number_unique_words(df)\n",
    "    print(\"Number of unique words across all test steps after fixing problematic words: \", number_unique_words)"
   ]
  },
  {
   "cell_type": "code",
   "execution_count": 19,
   "metadata": {},
   "outputs": [],
   "source": [
    "def preprocess_clean_data(df):\n",
    "    print(\"Cleaning test case name field...\")\n",
    "    print(\"Dataset size before preprocessing: \" , df.shape)\n",
    "    \n",
    "    # preprocessing and clean test name\n",
    "    \n",
    "    # replace url and similar structures (e.g, paths) with the keyword 'URL'\n",
    "    df[\"Case_Name\"] = df[\"Case_Name\"].apply(lambda x: re.sub(r'http\\S+', 'URL', x))\n",
    "    df[\"Case_Name\"] = df[\"Case_Name\"].apply(lambda x: re.sub('\\/[\\w-]*', '', x))\n",
    "    df[\"Case_Name\"] = df[\"Case_Name\"].apply(lambda x: re.sub(r'\\{[^)]*\\}', '', x))\n",
    "    \n",
    "    # lowercase the step descriptions\n",
    "    df[\"Case_Name\"] = df[\"Case_Name\"].apply(lambda x: x.lower())\n",
    "    \n",
    "    # remove digits and words with digits\n",
    "    df[\"Case_Name\"] = df[\"Case_Name\"].apply(lambda x: re.sub('\\w*\\d\\w*','', x))\n",
    "    \n",
    "    # remove punctuations\n",
    "    df[\"Case_Name\"] = df[\"Case_Name\"].apply(lambda x: re.sub('[%s]' % re.escape(string.punctuation), ' ', x))\n",
    "\n",
    "    # remove extra spaces\n",
    "    df[\"Case_Name\"] = df[\"Case_Name\"].apply(lambda x: re.sub(' +',' ',x))\n",
    "\n",
    "    # tokenization\n",
    "    df[\"Case_Name\"] = df[\"Case_Name\"].apply(lambda x: TweetTokenizer().tokenize(x))\n",
    "    number_unique_words = get_number_unique_words_name(df)\n",
    "    print(\"Number of unique words across all test names: \", number_unique_words)\n",
    "    \n",
    "    # stopword removal\n",
    "    stop_words = set(stopwords.words('english'))\n",
    "    df[\"Case_Name\"] = df[\"Case_Name\"].apply(lambda x: [w for w in x if not w in stop_words])\n",
    "    number_unique_words = get_number_unique_words_name(df)\n",
    "    print(\"Number of unique words in test names after stopword removal: \", number_unique_words)\n",
    "    \n",
    "    # lemmatization\n",
    "    lemmatizer = WordNetLemmatizer() \n",
    "    df[\"Case_Name\"] = df[\"Case_Name\"].apply(lambda x: [lemmatizer.lemmatize(w) for w in x])\n",
    "    \n",
    "    # remove words that occur a certain number of times\n",
    "    ten_times_occurrence_words = get_word_frequency_name(df)\n",
    "    print(\"Number of words that occurred only once in test case names: \", len(ten_times_occurrence_words))\n",
    "    \n",
    "    # list of words to be removed\n",
    "    for index, row in df.iterrows():\n",
    "        current_test_name = row[\"Case_Name\"]\n",
    "        list_words_to_remove = list()\n",
    "        for word in current_test_name:\n",
    "            if word in ten_times_occurrence_words:\n",
    "                list_words_to_remove.append(word)\n",
    "        \n",
    "        df.loc[index][\"Case_Name\"] = [elem for elem in current_test_name if not elem in list_words_to_remove]\n",
    "\n",
    "#     # remove single letters present in the data\n",
    "#     df[\"Name\"] = df[\"Name\"].apply(lambda x: [w for w in x if len(w.strip()) > 1])\n",
    "\n",
    "    # remove instances with empty names\n",
    "    df = df.loc[df[\"Case_Name\"] != '']\n",
    "    \n",
    "    number_unique_words = get_number_unique_words_name(df)\n",
    "    print(\"Number of unique words in test names in the end: \", number_unique_words)\n",
    "    print(\"Dataset size after preprocessing: \" , df.shape)"
   ]
  },
  {
   "cell_type": "markdown",
   "metadata": {},
   "source": [
    "### Read and preprocess files with test cases and build dataframe"
   ]
  },
  {
   "cell_type": "code",
   "execution_count": 20,
   "metadata": {},
   "outputs": [],
   "source": [
    "# Get data directory and list of xlsx files\n",
    "current_dir = os.getcwd() \n",
    "parent_dir = os.path.dirname(current_dir) + \"\\\\filtered_data\\\\\"\n",
    "xlsxfiles = [os.path.join(root, name)\n",
    "             for root, dirs, files in os.walk(parent_dir)\n",
    "             for name in files\n",
    "             if name.endswith((\".xlsx\"))]"
   ]
  },
  {
   "cell_type": "code",
   "execution_count": 21,
   "metadata": {},
   "outputs": [
    {
     "name": "stdout",
     "output_type": "stream",
     "text": [
      "Reading input data...\n",
      "Done!\n",
      "Shape of data =>  (15668, 5)\n"
     ]
    }
   ],
   "source": [
    "# Declare pandas df to be populated\n",
    "column_names = [\"Type\", \"Key\", \"Case_Name\", \"Step_ID\", \"Steps\"]\n",
    "test_steps_df = pd.DataFrame(columns = column_names)\n",
    "\n",
    "# Index to add data to the df\n",
    "index_to_add = 0\n",
    "\n",
    "print(\"Reading input data...\")   \n",
    "for test_file in xlsxfiles:\n",
    "    # load data and iterate through it\n",
    "    test_data_df = pd.read_excel(test_file)\n",
    "    for index, row in test_data_df.iterrows():\n",
    "        current_type = row[\"Type\"]\n",
    "        current_key = row[\"Key\"]\n",
    "        current_name = row[\"Case_Name\"]\n",
    "        current_step_id = row[\"Step_ID\"]\n",
    "        current_steps = row[\"Steps\"]\n",
    "        test_steps_df.loc[index_to_add] = [current_type, current_key, current_name, current_step_id, current_steps]\n",
    "        index_to_add += 1\n",
    "\n",
    "print(\"Done!\")\n",
    "print(\"Shape of data => \", test_steps_df.shape)"
   ]
  },
  {
   "cell_type": "code",
   "execution_count": 22,
   "metadata": {},
   "outputs": [
    {
     "name": "stdout",
     "output_type": "stream",
     "text": [
      "Cleaning test case name field...\n",
      "Dataset size before preprocessing:  (15668, 5)\n",
      "Number of unique words across all test names:  1519\n",
      "Number of unique words in test names after stopword removal:  1447\n",
      "Number of words that occurred only once in test case names:  164\n",
      "Number of unique words in test names in the end:  1138\n",
      "Dataset size after preprocessing:  (15668, 5)\n"
     ]
    }
   ],
   "source": [
    "# Call preprocessing function\n",
    "preprocess_clean_data(test_steps_df)"
   ]
  },
  {
   "cell_type": "code",
   "execution_count": 23,
   "metadata": {},
   "outputs": [
    {
     "name": "stdout",
     "output_type": "stream",
     "text": [
      "Number of unique words across all test steps:  2627\n",
      "Number of unique words across all test steps:  2627\n",
      "Number of unique words across all test steps after removing problematic words:  2617\n",
      "Number of unique words across all test steps:  2617\n",
      "Number of unique words across all test steps after fixing problematic words:  2599\n",
      "Number of unique words in test steps after stopword removal:  2488\n",
      "Number of words that occurred only once in test steps:  507\n",
      "Number of unique words in test steps in the end:  1742\n",
      "Dataset size after preprocessing:  (15668, 5)\n"
     ]
    }
   ],
   "source": [
    "# Preprocess steps here as for some reason its not processing properly within the function\n",
    "# Replace urls with the keyword 'URL'\n",
    "test_steps_df[\"Steps\"] = test_steps_df[\"Steps\"].apply(lambda x: re.sub(r'http\\S+', 'URL', x))\n",
    "\n",
    "# Remove structures similar to urls (e.g, paths) \n",
    "test_steps_df[\"Steps\"] = test_steps_df[\"Steps\"].apply(lambda x: re.sub('\\/[\\w-]*', '', x))\n",
    "test_steps_df[\"Steps\"] = test_steps_df[\"Steps\"].apply(lambda x: re.sub(r'\\{[^)]*\\}', '', x))\n",
    "\n",
    "# Lowercase the step descriptions\n",
    "test_steps_df[\"Steps\"] = test_steps_df[\"Steps\"].apply(lambda x: x.lower())\n",
    "\n",
    "# Remove digits and words with digits\n",
    "test_steps_df[\"Steps\"] = test_steps_df[\"Steps\"].apply(lambda x: re.sub('\\w*\\d\\w*','', x))\n",
    "\n",
    "# Remove punctuations\n",
    "test_steps_df[\"Steps\"] = test_steps_df[\"Steps\"].apply(lambda x: re.sub('[%s]' % re.escape(string.punctuation), ' ', x))\n",
    "\n",
    "# Remove extra spaces\n",
    "test_steps_df[\"Steps\"] = test_steps_df[\"Steps\"].apply(lambda x: re.sub(' +',' ',x))\n",
    "\n",
    "# Tokenization\n",
    "test_steps_df[\"Steps\"] = test_steps_df[\"Steps\"].apply(lambda x: TweetTokenizer().tokenize(x))\n",
    "number_unique_words = get_number_unique_words(test_steps_df)\n",
    "print(\"Number of unique words across all test steps: \", number_unique_words)\n",
    "\n",
    "# Remove and fix mispelled words\n",
    "remove_problematic_words(test_steps_df)\n",
    "fix_problematic_words(test_steps_df)\n",
    "\n",
    "# Stopword removal\n",
    "stop_words = set(stopwords.words('english'))\n",
    "test_steps_df[\"Steps\"] = test_steps_df[\"Steps\"].apply(lambda x: [w for w in x if not w in stop_words])\n",
    "number_unique_words = get_number_unique_words(test_steps_df)\n",
    "print(\"Number of unique words in test steps after stopword removal: \", number_unique_words)\n",
    "\n",
    "# Lemmatization\n",
    "lemmatizer = WordNetLemmatizer() \n",
    "test_steps_df[\"Steps\"] = test_steps_df[\"Steps\"].apply(lambda x: [lemmatizer.lemmatize(w) for w in x])\n",
    "\n",
    "# Remove words that occur only once in all test fields\n",
    "ten_times_occurrence_words = get_word_frequency(test_steps_df)\n",
    "print(\"Number of words that occurred only once in test steps: \", len(ten_times_occurrence_words))\n",
    "\n",
    "for index, row in test_steps_df.iterrows():\n",
    "    current_test_step = row[\"Steps\"]\n",
    "    list_words_to_remove = list()\n",
    "    for word in current_test_step:\n",
    "        if word in ten_times_occurrence_words:\n",
    "            list_words_to_remove.append(word)\n",
    "\n",
    "    test_steps_df.loc[index][\"Steps\"] = [elem for elem in current_test_step if not elem in list_words_to_remove]\n",
    "\n",
    "number_unique_words = get_number_unique_words(test_steps_df)\n",
    "print(\"Number of unique words in test steps in the end: \", number_unique_words)\n",
    "print(\"Dataset size after preprocessing: \" , test_steps_df.shape)"
   ]
  },
  {
   "cell_type": "code",
   "execution_count": null,
   "metadata": {},
   "outputs": [],
   "source": [
    "# Print head of preprocessed dataset\n",
    "test_steps_df.head()"
   ]
  },
  {
   "cell_type": "code",
   "execution_count": 30,
   "metadata": {},
   "outputs": [
    {
     "name": "stdout",
     "output_type": "stream",
     "text": [
      "Length of list with training data:  15668\n"
     ]
    }
   ],
   "source": [
    "# Get only necessary fields to train word embedding models ('type', 'name', 'steps')\n",
    "# Note: 'type' is always a str, while 'name' and 'steps' are always lists (even if they have a single element)\n",
    "test_steps_training_list = list()\n",
    "for index, row in test_steps_df.iterrows():\n",
    "    temp_list = list()\n",
    "    if not pd.isnull(row[\"Type\"]):\n",
    "        temp_list.append(str(row[\"Type\"]))\n",
    "    \n",
    "    if isinstance(row[\"Case_Name\"], list):\n",
    "        for elem in row[\"Case_Name\"]:\n",
    "            temp_list.append(elem)\n",
    "    else:\n",
    "        if isinstance(row[\"Case_Name\"], str):\n",
    "            temp_list.append(row[\"Case_Name\"])\n",
    "\n",
    "    if isinstance(row[\"Steps\"], list):\n",
    "        for elem in row[\"Steps\"]:\n",
    "            temp_list.append(elem)\n",
    "    else:\n",
    "        if isinstance(row[\"Steps\"], str):\n",
    "            temp_list.append(row[\"Steps\"])\n",
    "            \n",
    "    # Build list of lists of tokens (words)\n",
    "    test_steps_training_list.append(temp_list)\n",
    "\n",
    "print(\"Length of list with training data: \" , len(test_steps_training_list))"
   ]
  },
  {
   "cell_type": "code",
   "execution_count": 31,
   "metadata": {},
   "outputs": [],
   "source": [
    "# Check if all elements of the training data is correct (words should be strings)\n",
    "for step in test_steps_training_list:\n",
    "    for word in step:\n",
    "        if not isinstance(word, str):\n",
    "            print(\"Error with data type!\")\n",
    "            break"
   ]
  },
  {
   "cell_type": "markdown",
   "metadata": {},
   "source": [
    "### Train word embedding model - Word2Vec"
   ]
  },
  {
   "cell_type": "code",
   "execution_count": 34,
   "metadata": {},
   "outputs": [],
   "source": [
    "# Set parameters\n",
    "num_features = 300    # Word vector dimensionality                      \n",
    "min_word_count = 2   # Minimum word count (this should hold for all existing words now - one-occurring words were already removed)                       \n",
    "num_workers = 4       # Number of threads to run in parallel (if necessary)\n",
    "context = 2         # Context window size                                                                                    \n",
    "downsampling = 1e-3   # Downsample setting for frequent words"
   ]
  },
  {
   "cell_type": "code",
   "execution_count": 35,
   "metadata": {},
   "outputs": [
    {
     "name": "stdout",
     "output_type": "stream",
     "text": [
      "Size of initial vocabulary:  2032\n",
      "Number of words already initialized :  1750\n",
      "Number of words manually initialized :  282\n",
      "Finished in 77.77 second(s)\n"
     ]
    }
   ],
   "source": [
    "start = time.time()\n",
    "my_model = Word2Vec(workers=num_workers,\n",
    "                   size=num_features,\n",
    "                   min_count = min_word_count,\n",
    "                   window = context,\n",
    "                   sample = downsampling)\n",
    "# default of sg=0 (CBOW) to match the default of the last version of word2vec.c from the original researchers\n",
    "\n",
    "my_model.build_vocab(test_steps_training_list)\n",
    "total_examples = my_model.corpus_count\n",
    "print(\"Size of initial vocabulary: \", len(my_model.wv.vocab.keys()))\n",
    "\n",
    "# Load pre-trained model (set your custom path to where the model is located)\n",
    "pre_trained_model_path = \"E:\\\\TEMPORARY\\\\laptop\\\\Prodigy-collab\\\\Paper1\\\\GoogleNews-vectors-negative300.bin\\\\GoogleNews-vectors-negative300.bin\"\n",
    "pre_trained_model = KeyedVectors.load_word2vec_format(pre_trained_model_path, binary=True)\n",
    "\n",
    "all_words = list(my_model.wv.vocab.keys())\n",
    "for each_word in all_words:\n",
    "    my_model.wv[each_word] = np.zeros(300)\n",
    "\n",
    "# Update vocabulary with our corpus (must set 'lockf' to 1.0 to update model vocabulary)\n",
    "my_model.build_vocab([list(pre_trained_model.vocab.keys())], update=True)\n",
    "my_model.intersect_word2vec_format(pre_trained_model_path, binary=True, lockf=1.0)\n",
    "\n",
    "# Get mean and sd of initialized word vectors\n",
    "word_vector_median_list = list()\n",
    "count_initiliazed = 0\n",
    "for each_word in all_words:\n",
    "    # if word vector was initialized\n",
    "    if any(my_model.wv[each_word] != 0):\n",
    "        word_vector_median_list.append(np.median(my_model.wv[each_word]))\n",
    "        count_initiliazed += 1\n",
    "print(\"Number of words already initialized : \" , count_initiliazed)\n",
    "\n",
    "# Define mean and sd for the normal distributions of medians        \n",
    "mu = np.mean(word_vector_median_list)\n",
    "sigma = np.std(word_vector_median_list)\n",
    "\n",
    "# Initialize the remaining word vectors (not present in the pre-trained model)\n",
    "count_manual_initiliazed = 0\n",
    "for each_word in all_words:\n",
    "    # if word vector was NOT initialized\n",
    "    if all(my_model.wv[each_word] == 0):\n",
    "        # initialize this word vector\n",
    "        new_word_vector = np.random.normal(mu, sigma, 300)\n",
    "        my_model.wv[each_word] = new_word_vector\n",
    "        count_manual_initiliazed += 1\n",
    "print(\"Number of words manually initialized : \" , count_manual_initiliazed)\n",
    "\n",
    "my_model.train(test_steps_training_list, total_examples=total_examples, epochs=15)\n",
    "end = time.time()\n",
    "print(f'Finished in {round(end-start,2)} second(s)')"
   ]
  },
  {
   "cell_type": "code",
   "execution_count": null,
   "metadata": {},
   "outputs": [],
   "source": [
    "# Examples of how we can use the trained model for word embedding\n",
    "print(my_model.predict_output_word(['launch', 'prodigy', 'select', 'device']), '\\n')\n",
    "print(my_model.wv.most_similar('epics'), '\\n')\n",
    "print(my_model.wv.doesnt_match(['wand', 'boot', 'house', 'weapon', 'hat']))"
   ]
  },
  {
   "cell_type": "code",
   "execution_count": 34,
   "metadata": {},
   "outputs": [],
   "source": [
    "# # save vocab (uncomment to save the model vocabulary)\n",
    "# out_file= open(\"word2vec_vocab.txt\", \"a\")\n",
    "# for word in list(my_model.wv.vocab):\n",
    "#     out_file.write(word + '\\n')\n",
    "# out_file.close()"
   ]
  },
  {
   "cell_type": "code",
   "execution_count": 40,
   "metadata": {},
   "outputs": [],
   "source": [
    "# Save the model (uncomment to save)\n",
    "path_save_model = 'appr_1_my_model.model'\n",
    "# my_model.save(path_save_model)\n",
    "\n",
    "# Load the model (uncomment to load)\n",
    "path_load_model = 'appr_1_my_model.model'\n",
    "# my_model = Word2Vec.load(path_load_model)"
   ]
  },
  {
   "cell_type": "markdown",
   "metadata": {},
   "source": [
    "### Compute distance (WMD) between all pairs of test steps"
   ]
  },
  {
   "cell_type": "code",
   "execution_count": 41,
   "metadata": {},
   "outputs": [
    {
     "name": "stdout",
     "output_type": "stream",
     "text": [
      "Length of list of tuples: 15668\n",
      "Length of list with test steps:  15668\n"
     ]
    }
   ],
   "source": [
    "# Build tuples with (step_id, step_text) - used to retrieve the step ID in the end (after the clustering) - and get only test steps for clustering\n",
    "step_id_text_tuple_list = list()\n",
    "test_steps_clustering_list = list()\n",
    "for index, row in test_steps_df.iterrows():\n",
    "    step_id = row[\"Step_ID\"]\n",
    "    step_text = row[\"Steps\"]\n",
    "    step_id_text_tuple_list.append((step_id,step_text))\n",
    "\n",
    "    temp_list = list()\n",
    "    if isinstance(row[\"Steps\"], list):\n",
    "        for elem in row[\"Steps\"]:\n",
    "            temp_list.append(elem)\n",
    "    else:\n",
    "        if isinstance(row[\"Steps\"], str):\n",
    "            temp_list.append(row[\"Steps\"])\n",
    "        \n",
    "    # build list of lists of tokens (words)\n",
    "    test_steps_clustering_list.append(temp_list)\n",
    "    \n",
    "print(\"Length of list of tuples:\" , len(step_id_text_tuple_list))\n",
    "print(\"Length of list with test steps: \" , len(test_steps_clustering_list))"
   ]
  },
  {
   "cell_type": "code",
   "execution_count": 42,
   "metadata": {},
   "outputs": [
    {
     "name": "stdout",
     "output_type": "stream",
     "text": [
      "Length of list of tuples: 15644\n",
      "Length of list with test steps:  15644\n"
     ]
    }
   ],
   "source": [
    "# Remove empty steps\n",
    "index = 0\n",
    "steps_to_remove = list()\n",
    "for step in test_steps_clustering_list:\n",
    "    if len(step) == 0:\n",
    "        steps_to_remove.append(index)\n",
    "    index += 1\n",
    "\n",
    "step_id_text_tuple_list = [step_id_text_tuple_list[index] for index in range(len(step_id_text_tuple_list)) if not index in steps_to_remove]\n",
    "test_steps_clustering_list = [test_steps_clustering_list[index] for index in range(len(test_steps_clustering_list)) if not index in steps_to_remove]\n",
    "print(\"Length of list of tuples:\" , len(step_id_text_tuple_list))\n",
    "print(\"Length of list with test steps: \" , len(test_steps_clustering_list))"
   ]
  },
  {
   "cell_type": "code",
   "execution_count": 32,
   "metadata": {},
   "outputs": [],
   "source": [
    "# Assign the number of test steps to rows and cols and initialize distance matrix with zeros\n",
    "rows = cols = len(test_steps_clustering_list)\n",
    "dist_matrix = np.zeros((rows, cols))"
   ]
  },
  {
   "cell_type": "code",
   "execution_count": null,
   "metadata": {},
   "outputs": [],
   "source": [
    "start = time.perf_counter()\n",
    "print(\"Computing distances....\")\n",
    "for row in range(rows):\n",
    "    for col in range(row, cols):\n",
    "        computed_dist = my_model.wmdistance(test_steps_clustering_list[row], test_steps_clustering_list[col])\n",
    "        # Upper bound to avoid having inf values\n",
    "        if computed_dist > 1000:\n",
    "\t\t\tcomputed_dist = 1000\n",
    "        dist_matrix[row,col] = dist_matrix[col,row] = computed_dist\n",
    "\n",
    "finish = time.perf_counter()\n",
    "print(f'Finished in {round(finish-start,2)} second(s)')"
   ]
  },
  {
   "cell_type": "code",
   "execution_count": null,
   "metadata": {},
   "outputs": [],
   "source": [
    "# # save distance matrix\n",
    "path_save_dist_matrix = 'appr_1_dist_matrix.txt'\n",
    "# np.savetxt(path_save_dist_matrix, dist_matrix)\n",
    "\n",
    "# load distance matrix\n",
    "path_load_dist_matrix = 'appr_1_dist_matrix.txt'\n",
    "dist_matrix = np.loadtxt(path_load_dist_matrix)"
   ]
  },
  {
   "cell_type": "code",
   "execution_count": null,
   "metadata": {},
   "outputs": [],
   "source": [
    "# Print matrix's shape and check if it's correct\n",
    "dist_matrix.shape"
   ]
  },
  {
   "cell_type": "markdown",
   "metadata": {},
   "source": [
    "### Use WMD = 0 to cluster test steps"
   ]
  },
  {
   "cell_type": "code",
   "execution_count": null,
   "metadata": {},
   "outputs": [],
   "source": [
    "similar_steps_dict = {}\n",
    "for i in range(len(test_steps_clustering_list)):\n",
    "    similar_steps_dict[i] = [i]\n",
    "    print(i)\n",
    "    for j in range(i,len(test_steps_clustering_list)):\n",
    "        if dist_matrix[i,j] == 0:\n",
    "            temp_list = similar_steps_dict[i]\n",
    "            if j not in temp_list:\n",
    "                temp_list.append(j)\n",
    "                similar_steps_dict[i] = temp_list"
   ]
  },
  {
   "cell_type": "code",
   "execution_count": null,
   "metadata": {},
   "outputs": [],
   "source": [
    "same_steps_list = []\n",
    "found_flag = [False] * len(test_steps_clustering_list)\n",
    "\n",
    "for i in range(len(test_steps_clustering_list)-1):\n",
    "    temp_set = set()\n",
    "    if not found_flag[i]:\n",
    "        temp_set.add(i)\n",
    "        found_flag[i] = True\n",
    "    else:\n",
    "        continue\n",
    "        \n",
    "    for j in range(i+1, len(test_steps_clustering_list)):\n",
    "        if found_flag[j]:\n",
    "            continue\n",
    "        else:\n",
    "            if test_steps_clustering_list[i] == test_steps_clustering_list[j]:\n",
    "                temp_set.add(j)\n",
    "                found_flag[j] = True\n",
    "    same_steps_list.append(temp_set)"
   ]
  },
  {
   "cell_type": "code",
   "execution_count": 106,
   "metadata": {},
   "outputs": [
    {
     "name": "stdout",
     "output_type": "stream",
     "text": [
      "17\n"
     ]
    }
   ],
   "source": [
    "# Print cluster exmaple with more than 10 test steps\n",
    "for key in similar_steps_dict:\n",
    "    if len(similar_steps_dict[key]) > 10:\n",
    "        print(key)\n",
    "        break"
   ]
  },
  {
   "cell_type": "code",
   "execution_count": null,
   "metadata": {},
   "outputs": [],
   "source": [
    "# Merge clusters that share elements\n",
    "set_list = list()\n",
    "index_list_skip = list()\n",
    "for i in range(len(similar_steps_dict)):\n",
    "    print(i)\n",
    "    base_set = set(similar_steps_dict[i])\n",
    "    if i not in index_list_skip:\n",
    "        if i != len(similar_steps_dict):\n",
    "            for j in range(i+1, len(similar_steps_dict)):\n",
    "                compared_set = set(similar_steps_dict[j])\n",
    "                if len(base_set.intersection(compared_set)) > 0:\n",
    "                    base_set = base_set.union(compared_set)\n",
    "                    index_list_skip.append(j)\n",
    "        set_list.append(base_set)"
   ]
  },
  {
   "cell_type": "code",
   "execution_count": 46,
   "metadata": {},
   "outputs": [
    {
     "name": "stdout",
     "output_type": "stream",
     "text": [
      "Final number of clusters :  4393\n"
     ]
    }
   ],
   "source": [
    "print(\"Final number of clusters : \", len(set_list))"
   ]
  },
  {
   "cell_type": "code",
   "execution_count": 81,
   "metadata": {},
   "outputs": [
    {
     "name": "stdout",
     "output_type": "stream",
     "text": [
      "{132, 142, 17, 20, 149, 23, 26, 155, 29, 32, 161, 36, 167, 43, 173, 49, 182, 59, 191, 65, 68, 197, 73, 76, 205, 81, 84, 214, 89, 92, 97, 102, 107}\n"
     ]
    }
   ],
   "source": [
    "# Example of cluster with more than 10 test steps\n",
    "for each in set_list:\n",
    "    if len(each) > 10:\n",
    "        print(each)\n",
    "        break"
   ]
  },
  {
   "cell_type": "code",
   "execution_count": 49,
   "metadata": {},
   "outputs": [],
   "source": [
    "# Save clustered data\n",
    "path_save_data = \"baseline_2/baseline_2_clustered_data.txt\"\n",
    "out_cluster_file = open(path_save_data, \"a\")\n",
    "label_cluster = 0\n",
    "for each_set in set_list:\n",
    "    for index in each_set:\n",
    "        str_to_save = \"[\" + str(label_cluster) + \"]:\\t\\t\" + test_steps_df.loc[index][\"Key\"] + \"\\t\\t\" + str(step_id_text_tuple_list[index][0]) + \"\\t\\t\" + str(test_steps_clustering_list[index]) + \"\\n\"\n",
    "        out_cluster_file.write(str_to_save)\n",
    "    label_cluster += 1\n",
    "out_cluster_file.close()"
   ]
  },
  {
   "cell_type": "code",
   "execution_count": 50,
   "metadata": {},
   "outputs": [],
   "source": [
    "# Save cluster labels\n",
    "path_save_labels = \"baseline_2/baseline_2_cluster_labels.txt\"\n",
    "out_cluster_file = open(path_save_labels, \"a\")\n",
    "label_cluster = 0\n",
    "for each_set in set_list:\n",
    "    str_to_save = \"[\" + str(label_cluster) + \"]: \" + ','.join(str(step_id_text_tuple_list[x][0]) for x in each_set) + \"\\n\"\n",
    "    out_cluster_file.write(str_to_save)\n",
    "    label_cluster += 1\n",
    "out_cluster_file.close()"
   ]
  },
  {
   "cell_type": "markdown",
   "metadata": {},
   "source": [
    "### Compute F-score"
   ]
  },
  {
   "cell_type": "markdown",
   "metadata": {},
   "source": [
    "#### Load ground truth of similar test steps (to compute F-score)"
   ]
  },
  {
   "cell_type": "code",
   "execution_count": 6,
   "metadata": {},
   "outputs": [],
   "source": [
    "# Read excel files with manually clustered samples\n",
    "manual_sample_dir = 'sample_manual_ground_truth/clusters/'\n",
    "sample_files = os.listdir(manual_sample_dir)"
   ]
  },
  {
   "cell_type": "code",
   "execution_count": 3,
   "metadata": {},
   "outputs": [],
   "source": [
    "manual_clusters_dict = {}\n",
    "for sample in sample_files:\n",
    "    sample_df = pd.read_excel(manual_sample_dir + sample)\n",
    "    for index, row in sample_df.iterrows():\n",
    "        cluster_id = row['cluster_id']\n",
    "        step_id = row['step_id']\n",
    "        if step_id in manual_clusters_dict:\n",
    "            existing_list = manual_clusters_dict[step_id]\n",
    "            existing_list.append(cluster_id)\n",
    "            manual_clusters_dict[step_id] = existing_list\n",
    "        else:\n",
    "            manual_clusters_dict[step_id] = [cluster_id]"
   ]
  },
  {
   "cell_type": "code",
   "execution_count": 4,
   "metadata": {},
   "outputs": [
    {
     "name": "stdout",
     "output_type": "stream",
     "text": [
      "Number of test step samples which were manually clustered:  394\n"
     ]
    }
   ],
   "source": [
    "print(\"Number of test step samples which were manually clustered: \", len(manual_clusters_dict))"
   ]
  },
  {
   "cell_type": "code",
   "execution_count": 5,
   "metadata": {},
   "outputs": [],
   "source": [
    "test_steps_to_evaluate_list = list(manual_clusters_dict.keys())"
   ]
  },
  {
   "cell_type": "code",
   "execution_count": 96,
   "metadata": {},
   "outputs": [],
   "source": [
    "appr_clusters_dict = {}\n",
    "cluster_id = 0\n",
    "for each_set in set_list:\n",
    "    for elem in each_set:\n",
    "        step_id = step_id_text_tuple_list[elem][0]\n",
    "        appr_clusters_dict[int(step_id)] = cluster_id\n",
    "    cluster_id += 1"
   ]
  },
  {
   "cell_type": "code",
   "execution_count": 97,
   "metadata": {},
   "outputs": [
    {
     "name": "stdout",
     "output_type": "stream",
     "text": [
      "Number of test steps which were clustered by the approach:  15644\n"
     ]
    }
   ],
   "source": [
    "print(\"Number of test steps which were clustered by the approach: \", len(appr_clusters_dict))"
   ]
  },
  {
   "cell_type": "code",
   "execution_count": 102,
   "metadata": {},
   "outputs": [],
   "source": [
    "# Declare and initialize variables to compute F-score\n",
    "TP = 0\n",
    "FP = 0\n",
    "TN = 0\n",
    "FN = 0"
   ]
  },
  {
   "cell_type": "code",
   "execution_count": 103,
   "metadata": {},
   "outputs": [],
   "source": [
    "# Iterate through list of test steps to evaluate\n",
    "for i in range(len(test_steps_to_evaluate_list)-1):\n",
    "    for j in range(i+1, len(test_steps_to_evaluate_list)):\n",
    "        step_id_1 = test_steps_to_evaluate_list[i]\n",
    "        step_id_2 = test_steps_to_evaluate_list[j]\n",
    "        \n",
    "        # true positive case\n",
    "        if (manual_clusters_dict[step_id_1] == manual_clusters_dict[step_id_2]) and (appr_clusters_dict[step_id_1] == appr_clusters_dict[step_id_2]):\n",
    "            TP += 1\n",
    "            \n",
    "        # false positive case\n",
    "        elif (manual_clusters_dict[step_id_1] != manual_clusters_dict[step_id_2]) and (appr_clusters_dict[step_id_1] == appr_clusters_dict[step_id_2]):\n",
    "            FP += 1\n",
    "            \n",
    "        # false negative case\n",
    "        elif (manual_clusters_dict[step_id_1] == manual_clusters_dict[step_id_2]) and (appr_clusters_dict[step_id_1] != appr_clusters_dict[step_id_2]):\n",
    "            FN += 1\n",
    "            \n",
    "        # true negative case\n",
    "        elif (manual_clusters_dict[step_id_1] != manual_clusters_dict[step_id_2]) and (appr_clusters_dict[step_id_1] != appr_clusters_dict[step_id_2]):\n",
    "            TN += 1"
   ]
  },
  {
   "cell_type": "code",
   "execution_count": 104,
   "metadata": {},
   "outputs": [
    {
     "name": "stdout",
     "output_type": "stream",
     "text": [
      "Precision =  1.0\n",
      "Recall =  0.5432098765432098\n"
     ]
    }
   ],
   "source": [
    "precision = TP / (TP + FP)\n",
    "recall = TP / (TP + FN)\n",
    "print(\"Precision = \", precision)\n",
    "print(\"Recall = \", recall)"
   ]
  },
  {
   "cell_type": "code",
   "execution_count": 105,
   "metadata": {},
   "outputs": [
    {
     "name": "stdout",
     "output_type": "stream",
     "text": [
      "F-score =  0.704\n"
     ]
    }
   ],
   "source": [
    "f_score = (2 * precision * recall) / (precision + recall)\n",
    "print(\"F-score = \", f_score)"
   ]
  }
 ],
 "metadata": {
  "kernelspec": {
   "display_name": "Python 3",
   "language": "python",
   "name": "python3"
  },
  "language_info": {
   "codemirror_mode": {
    "name": "ipython",
    "version": 3
   },
   "file_extension": ".py",
   "mimetype": "text/x-python",
   "name": "python",
   "nbconvert_exporter": "python",
   "pygments_lexer": "ipython3",
   "version": "3.6.8"
  }
 },
 "nbformat": 4,
 "nbformat_minor": 2
}
