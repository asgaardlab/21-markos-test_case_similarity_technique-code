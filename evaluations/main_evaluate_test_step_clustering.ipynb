{
 "cells": [
  {
   "cell_type": "markdown",
   "metadata": {},
   "source": [
    "### Notebook to evaluate all the clustering approaches using F-score"
   ]
  },
  {
   "cell_type": "code",
   "execution_count": 1,
   "metadata": {},
   "outputs": [],
   "source": [
    "import os\n",
    "import pandas as pd\n",
    "import numpy as np\n",
    "import matplotlib.pyplot as plt"
   ]
  },
  {
   "cell_type": "markdown",
   "metadata": {},
   "source": [
    "#### Load ground truth of similar test steps (to compute F-score)"
   ]
  },
  {
   "cell_type": "code",
   "execution_count": 8,
   "metadata": {},
   "outputs": [],
   "source": [
    "# read excel files with manually clustered samples\n",
    "manual_sample_dir = 'sample_manual_ground_truth/clusters/'\n",
    "sample_files = os.listdir(manual_sample_dir)"
   ]
  },
  {
   "cell_type": "code",
   "execution_count": 9,
   "metadata": {},
   "outputs": [],
   "source": [
    "manual_clusters_dict = {}\n",
    "for sample in sample_files:\n",
    "    sample_df = pd.read_excel(manual_sample_dir + sample)\n",
    "    for index, row in sample_df.iterrows():\n",
    "        cluster_id = row['cluster_id']\n",
    "        step_id = row['step_id']\n",
    "        if step_id in manual_clusters_dict:\n",
    "            existing_list = manual_clusters_dict[step_id]\n",
    "            existing_list.append(cluster_id)\n",
    "            manual_clusters_dict[step_id] = existing_list\n",
    "        else:\n",
    "            manual_clusters_dict[step_id] = [cluster_id]"
   ]
  },
  {
   "cell_type": "code",
   "execution_count": 10,
   "metadata": {},
   "outputs": [
    {
     "name": "stdout",
     "output_type": "stream",
     "text": [
      "Number of test step samples which were manually clustered:  394\n"
     ]
    }
   ],
   "source": [
    "print(\"Number of test step samples which were manually clustered: \", len(manual_clusters_dict))"
   ]
  },
  {
   "cell_type": "code",
   "execution_count": 11,
   "metadata": {},
   "outputs": [],
   "source": [
    "test_steps_to_evaluate_list = list(manual_clusters_dict.keys())"
   ]
  },
  {
   "cell_type": "code",
   "execution_count": 10,
   "metadata": {},
   "outputs": [],
   "source": [
    "list_cluster_ids = list()\n",
    "for key in manual_clusters_dict:\n",
    "    list_cluster_ids.append(manual_clusters_dict[key][0])"
   ]
  },
  {
   "cell_type": "code",
   "execution_count": 11,
   "metadata": {},
   "outputs": [],
   "source": [
    "cluster_dict = {}\n",
    "for key in manual_clusters_dict:\n",
    "    clusterid = manual_clusters_dict[key][0]\n",
    "    if clusterid not in newdict:\n",
    "        cluster_dict[clusterid] = [key]\n",
    "    else:\n",
    "        existing_list = newdict[clusterid]\n",
    "        existing_list.append(key)\n",
    "        cluster_dict[clusterid] = existing_list"
   ]
  },
  {
   "cell_type": "code",
   "execution_count": 17,
   "metadata": {},
   "outputs": [],
   "source": [
    "# Get number of steps in clusters\n",
    "list_number_elements = list()\n",
    "for key in cluster_dict:\n",
    "    number_elements = len(cluster_dict[key])\n",
    "    list_number_elements.append(number_elements)"
   ]
  },
  {
   "cell_type": "code",
   "execution_count": 19,
   "metadata": {},
   "outputs": [
    {
     "data": {
      "text/plain": [
       "<Figure size 432x288 with 0 Axes>"
      ]
     },
     "metadata": {},
     "output_type": "display_data"
    },
    {
     "data": {
      "image/png": "[encoded data removed]",
      "text/plain": [
       "<Figure size 432x288 with 1 Axes>"
      ]
     },
     "metadata": {
      "needs_background": "light"
     },
     "output_type": "display_data"
    },
    {
     "name": "stdout",
     "output_type": "stream",
     "text": [
      "                0\n",
      "count  213.000000\n",
      "mean     1.849765\n",
      "std      1.941591\n",
      "min      1.000000\n",
      "25%      1.000000\n",
      "50%      1.000000\n",
      "75%      2.000000\n",
      "max     15.000000\n",
      "\n"
     ]
    }
   ],
   "source": [
    "# Plot distribution of steps in clusters (for the ground truth)\n",
    "plt.figure()\n",
    "pd.DataFrame(list_number_elements).plot.box()\n",
    "plt.title('Dist. similar test steps')\n",
    "plt.show()\n",
    "print(pd.DataFrame(list_number_elements).describe(), end='\\n\\n')"
   ]
  },
  {
   "cell_type": "code",
   "execution_count": 2,
   "metadata": {},
   "outputs": [],
   "source": [
    "# Set directory with experiment results\n",
    "experiment_results_dir = 'experiments/'"
   ]
  },
  {
   "cell_type": "markdown",
   "metadata": {},
   "source": [
    "### Evaluate approach 1 (hierarchical clustering)"
   ]
  },
  {
   "cell_type": "code",
   "execution_count": 11,
   "metadata": {},
   "outputs": [],
   "source": [
    "approach_1_dir = experiment_results_dir + 'results_approach_1/'"
   ]
  },
  {
   "cell_type": "code",
   "execution_count": 12,
   "metadata": {},
   "outputs": [],
   "source": [
    "appr_clusters_dict = {}\n",
    "cluster_file = open(approach_1_dir + 'appr_1_cluster_labels.txt')\n",
    "for line in cluster_file:\n",
    "    full_line = line.split()\n",
    "    cluster_id = int(full_line[0].replace('[', '').replace(']', '').replace(':', ''))\n",
    "    step_id_list = full_line[1].split(',')\n",
    "    for step_id in step_id_list:\n",
    "        appr_clusters_dict[int(step_id)] = cluster_id"
   ]
  },
  {
   "cell_type": "code",
   "execution_count": 13,
   "metadata": {},
   "outputs": [
    {
     "name": "stdout",
     "output_type": "stream",
     "text": [
      "Number of test steps which were clustered by the approach:  15644\n"
     ]
    }
   ],
   "source": [
    "print(\"Number of test steps which were clustered by the approach: \", len(appr_clusters_dict))"
   ]
  },
  {
   "cell_type": "code",
   "execution_count": 14,
   "metadata": {},
   "outputs": [],
   "source": [
    "# Declare and initialize variables to compute F-score\n",
    "TP = 0\n",
    "FP = 0\n",
    "TN = 0\n",
    "FN = 0"
   ]
  },
  {
   "cell_type": "code",
   "execution_count": 15,
   "metadata": {},
   "outputs": [],
   "source": [
    "# Iterate through list of steps to evaluate\n",
    "for i in range(len(test_steps_to_evaluate_list)-1):\n",
    "    for j in range(i+1, len(test_steps_to_evaluate_list)):\n",
    "        step_id_1 = test_steps_to_evaluate_list[i]\n",
    "        step_id_2 = test_steps_to_evaluate_list[j]\n",
    "        \n",
    "        # true positive case\n",
    "        if (manual_clusters_dict[step_id_1] == manual_clusters_dict[step_id_2]) and (appr_clusters_dict[step_id_1] == appr_clusters_dict[step_id_2]):\n",
    "            TP += 1\n",
    "            \n",
    "        # false positive case\n",
    "        elif (manual_clusters_dict[step_id_1] != manual_clusters_dict[step_id_2]) and (appr_clusters_dict[step_id_1] == appr_clusters_dict[step_id_2]):\n",
    "            FP += 1\n",
    "            \n",
    "        # false negative case\n",
    "        elif (manual_clusters_dict[step_id_1] == manual_clusters_dict[step_id_2]) and (appr_clusters_dict[step_id_1] != appr_clusters_dict[step_id_2]):\n",
    "            FN += 1\n",
    "            \n",
    "        # true negative case\n",
    "        elif (manual_clusters_dict[step_id_1] != manual_clusters_dict[step_id_2]) and (appr_clusters_dict[step_id_1] != appr_clusters_dict[step_id_2]):\n",
    "            TN += 1"
   ]
  },
  {
   "cell_type": "code",
   "execution_count": 16,
   "metadata": {},
   "outputs": [
    {
     "name": "stdout",
     "output_type": "stream",
     "text": [
      "Precision =  0.9373695198329853\n",
      "Recall =  0.7918871252204586\n"
     ]
    }
   ],
   "source": [
    "precision = TP / (TP + FP)\n",
    "recall = TP / (TP + FN)\n",
    "print(\"Precision = \", precision)\n",
    "print(\"Recall = \", recall)"
   ]
  },
  {
   "cell_type": "code",
   "execution_count": 17,
   "metadata": {},
   "outputs": [
    {
     "name": "stdout",
     "output_type": "stream",
     "text": [
      "F-score =  0.8585086042065009\n"
     ]
    }
   ],
   "source": [
    "f_score = (2 * precision * recall) / (precision + recall)\n",
    "print(\"F-score = \", f_score)"
   ]
  },
  {
   "cell_type": "markdown",
   "metadata": {},
   "source": [
    "### Evaluate approach 1 (K-means)"
   ]
  },
  {
   "cell_type": "code",
   "execution_count": 27,
   "metadata": {},
   "outputs": [],
   "source": [
    "approach_1_kmeans_dir = experiment_results_dir + 'results_approach_1_kmeans/'"
   ]
  },
  {
   "cell_type": "code",
   "execution_count": 28,
   "metadata": {},
   "outputs": [],
   "source": [
    "appr_clusters_dict = {}\n",
    "cluster_file = open(approach_1_kmeans_dir + 'appr_1_kmeans_cluster_labels.txt')\n",
    "for line in cluster_file:\n",
    "    full_line = line.split()\n",
    "    cluster_id = int(full_line[0].replace('[', '').replace(']', '').replace(':', ''))\n",
    "    step_id_list = full_line[1].split(',')\n",
    "    for step_id in step_id_list:\n",
    "        appr_clusters_dict[int(step_id)] = cluster_id"
   ]
  },
  {
   "cell_type": "code",
   "execution_count": 29,
   "metadata": {},
   "outputs": [
    {
     "name": "stdout",
     "output_type": "stream",
     "text": [
      "Number of test steps which were clustered by the approach:  15644\n"
     ]
    }
   ],
   "source": [
    "print(\"Number of test steps which were clustered by the approach: \", len(appr_clusters_dict))"
   ]
  },
  {
   "cell_type": "code",
   "execution_count": 30,
   "metadata": {},
   "outputs": [],
   "source": [
    "# Declare and initialize variables to compute F-score\n",
    "TP = 0\n",
    "FP = 0\n",
    "TN = 0\n",
    "FN = 0"
   ]
  },
  {
   "cell_type": "code",
   "execution_count": 31,
   "metadata": {},
   "outputs": [],
   "source": [
    "# Iterate through list of steps to evaluate\n",
    "for i in range(len(test_steps_to_evaluate_list)-1):\n",
    "    for j in range(i+1, len(test_steps_to_evaluate_list)):\n",
    "        step_id_1 = test_steps_to_evaluate_list[i]\n",
    "        step_id_2 = test_steps_to_evaluate_list[j]\n",
    "        \n",
    "        # true positive case\n",
    "        if (manual_clusters_dict[step_id_1] == manual_clusters_dict[step_id_2]) and (appr_clusters_dict[step_id_1] == appr_clusters_dict[step_id_2]):\n",
    "            TP += 1\n",
    "            \n",
    "        # false positive case\n",
    "        elif (manual_clusters_dict[step_id_1] != manual_clusters_dict[step_id_2]) and (appr_clusters_dict[step_id_1] == appr_clusters_dict[step_id_2]):\n",
    "            FP += 1\n",
    "            \n",
    "        # false negative case\n",
    "        elif (manual_clusters_dict[step_id_1] == manual_clusters_dict[step_id_2]) and (appr_clusters_dict[step_id_1] != appr_clusters_dict[step_id_2]):\n",
    "            FN += 1\n",
    "            \n",
    "        # true negative case\n",
    "        elif (manual_clusters_dict[step_id_1] != manual_clusters_dict[step_id_2]) and (appr_clusters_dict[step_id_1] != appr_clusters_dict[step_id_2]):\n",
    "            TN += 1"
   ]
  },
  {
   "cell_type": "code",
   "execution_count": 32,
   "metadata": {},
   "outputs": [
    {
     "name": "stdout",
     "output_type": "stream",
     "text": [
      "Precision =  0.9423868312757202\n",
      "Recall =  0.8077601410934744\n"
     ]
    }
   ],
   "source": [
    "precision = TP / (TP + FP)\n",
    "recall = TP / (TP + FN)\n",
    "print(\"Precision = \", precision)\n",
    "print(\"Recall = \", recall)"
   ]
  },
  {
   "cell_type": "code",
   "execution_count": 33,
   "metadata": {},
   "outputs": [
    {
     "name": "stdout",
     "output_type": "stream",
     "text": [
      "F-score =  0.8698955365622032\n"
     ]
    }
   ],
   "source": [
    "f_score = (2 * precision * recall) / (precision + recall)\n",
    "print(\"F-score = \", f_score)"
   ]
  },
  {
   "cell_type": "markdown",
   "metadata": {},
   "source": [
    "### Evaluate approach 2 (hierarchical clustering)"
   ]
  },
  {
   "cell_type": "code",
   "execution_count": 50,
   "metadata": {},
   "outputs": [],
   "source": [
    "approach_2_dir = experiment_results_dir + 'results_approach_2/'"
   ]
  },
  {
   "cell_type": "code",
   "execution_count": 51,
   "metadata": {},
   "outputs": [],
   "source": [
    "appr_clusters_dict = {}\n",
    "cluster_file = open(approach_2_dir + 'appr_2_cluster_labels.txt')\n",
    "for line in cluster_file:\n",
    "    full_line = line.split()\n",
    "    cluster_id = int(full_line[0].replace('[', '').replace(']', '').replace(':', ''))\n",
    "    step_id_list = full_line[1].split(',')\n",
    "    for step_id in step_id_list:\n",
    "        appr_clusters_dict[int(step_id)] = cluster_id"
   ]
  },
  {
   "cell_type": "code",
   "execution_count": 52,
   "metadata": {},
   "outputs": [
    {
     "name": "stdout",
     "output_type": "stream",
     "text": [
      "Number of test steps which were clustered by the approach:  15644\n"
     ]
    }
   ],
   "source": [
    "print(\"Number of test steps which were clustered by the approach: \", len(appr_clusters_dict))"
   ]
  },
  {
   "cell_type": "code",
   "execution_count": 53,
   "metadata": {},
   "outputs": [],
   "source": [
    "# Declare and initialize variables to compute F-score\n",
    "TP = 0\n",
    "FP = 0\n",
    "TN = 0\n",
    "FN = 0"
   ]
  },
  {
   "cell_type": "code",
   "execution_count": 54,
   "metadata": {},
   "outputs": [],
   "source": [
    "# Iterate through list of steps to evaluate\n",
    "for i in range(len(test_steps_to_evaluate_list)-1):\n",
    "    for j in range(i+1, len(test_steps_to_evaluate_list)):\n",
    "        step_id_1 = test_steps_to_evaluate_list[i]\n",
    "        step_id_2 = test_steps_to_evaluate_list[j]\n",
    "        \n",
    "        # true positive case\n",
    "        if (manual_clusters_dict[step_id_1] == manual_clusters_dict[step_id_2]) and (appr_clusters_dict[step_id_1] == appr_clusters_dict[step_id_2]):\n",
    "            TP += 1\n",
    "            \n",
    "        # false positive case\n",
    "        elif (manual_clusters_dict[step_id_1] != manual_clusters_dict[step_id_2]) and (appr_clusters_dict[step_id_1] == appr_clusters_dict[step_id_2]):\n",
    "            FP += 1\n",
    "            \n",
    "        # false negative case\n",
    "        elif (manual_clusters_dict[step_id_1] == manual_clusters_dict[step_id_2]) and (appr_clusters_dict[step_id_1] != appr_clusters_dict[step_id_2]):\n",
    "            FN += 1\n",
    "            \n",
    "        # true negative case\n",
    "        elif (manual_clusters_dict[step_id_1] != manual_clusters_dict[step_id_2]) and (appr_clusters_dict[step_id_1] != appr_clusters_dict[step_id_2]):\n",
    "            TN += 1"
   ]
  },
  {
   "cell_type": "code",
   "execution_count": 55,
   "metadata": {},
   "outputs": [
    {
     "name": "stdout",
     "output_type": "stream",
     "text": [
      "Precision =  0.8956692913385826\n",
      "Recall =  0.8024691358024691\n"
     ]
    }
   ],
   "source": [
    "precision = TP / (TP + FP)\n",
    "recall = TP / (TP + FN)\n",
    "print(\"Precision = \", precision)\n",
    "print(\"Recall = \", recall)"
   ]
  },
  {
   "cell_type": "code",
   "execution_count": 56,
   "metadata": {},
   "outputs": [
    {
     "name": "stdout",
     "output_type": "stream",
     "text": [
      "F-score =  0.8465116279069766\n"
     ]
    }
   ],
   "source": [
    "f_score = (2 * precision * recall) / (precision + recall)\n",
    "print(\"F-score = \", f_score)"
   ]
  },
  {
   "cell_type": "markdown",
   "metadata": {},
   "source": [
    "### Evaluate approach 2 (K-means)"
   ]
  },
  {
   "cell_type": "code",
   "execution_count": 58,
   "metadata": {},
   "outputs": [],
   "source": [
    "approach_2_kmeans_dir = experiment_results_dir + 'results_approach_2_kmeans/'"
   ]
  },
  {
   "cell_type": "code",
   "execution_count": 59,
   "metadata": {},
   "outputs": [],
   "source": [
    "appr_clusters_dict = {}\n",
    "cluster_file = open(approach_2_kmeans_dir + 'appr_2_kmeans_cluster_labels.txt')\n",
    "for line in cluster_file:\n",
    "    full_line = line.split()\n",
    "    cluster_id = int(full_line[0].replace('[', '').replace(']', '').replace(':', ''))\n",
    "    step_id_list = full_line[1].split(',')\n",
    "    for step_id in step_id_list:\n",
    "        appr_clusters_dict[int(step_id)] = cluster_id"
   ]
  },
  {
   "cell_type": "code",
   "execution_count": 60,
   "metadata": {},
   "outputs": [
    {
     "name": "stdout",
     "output_type": "stream",
     "text": [
      "Number of test steps which were clustered by the approach:  15644\n"
     ]
    }
   ],
   "source": [
    "print(\"Number of test steps which were clustered by the approach: \", len(appr_clusters_dict))"
   ]
  },
  {
   "cell_type": "code",
   "execution_count": 61,
   "metadata": {},
   "outputs": [],
   "source": [
    "# Declare and initialize variables to compute F-score\n",
    "TP = 0\n",
    "FP = 0\n",
    "TN = 0\n",
    "FN = 0"
   ]
  },
  {
   "cell_type": "code",
   "execution_count": 62,
   "metadata": {},
   "outputs": [],
   "source": [
    "# Iterate through list of steps to evaluate\n",
    "for i in range(len(test_steps_to_evaluate_list)-1):\n",
    "    for j in range(i+1, len(test_steps_to_evaluate_list)):\n",
    "        step_id_1 = test_steps_to_evaluate_list[i]\n",
    "        step_id_2 = test_steps_to_evaluate_list[j]\n",
    "        \n",
    "        # true positive case\n",
    "        if (manual_clusters_dict[step_id_1] == manual_clusters_dict[step_id_2]) and (appr_clusters_dict[step_id_1] == appr_clusters_dict[step_id_2]):\n",
    "            TP += 1\n",
    "            \n",
    "        # false positive case\n",
    "        elif (manual_clusters_dict[step_id_1] != manual_clusters_dict[step_id_2]) and (appr_clusters_dict[step_id_1] == appr_clusters_dict[step_id_2]):\n",
    "            FP += 1\n",
    "            \n",
    "        # false negative case\n",
    "        elif (manual_clusters_dict[step_id_1] == manual_clusters_dict[step_id_2]) and (appr_clusters_dict[step_id_1] != appr_clusters_dict[step_id_2]):\n",
    "            FN += 1\n",
    "            \n",
    "        # true negative case\n",
    "        elif (manual_clusters_dict[step_id_1] != manual_clusters_dict[step_id_2]) and (appr_clusters_dict[step_id_1] != appr_clusters_dict[step_id_2]):\n",
    "            TN += 1"
   ]
  },
  {
   "cell_type": "code",
   "execution_count": 63,
   "metadata": {},
   "outputs": [
    {
     "name": "stdout",
     "output_type": "stream",
     "text": [
      "Precision =  0.9114688128772636\n",
      "Recall =  0.798941798941799\n"
     ]
    }
   ],
   "source": [
    "precision = TP / (TP + FP)\n",
    "recall = TP / (TP + FN)\n",
    "print(\"Precision = \", precision)\n",
    "print(\"Recall = \", recall)"
   ]
  },
  {
   "cell_type": "code",
   "execution_count": 64,
   "metadata": {},
   "outputs": [
    {
     "name": "stdout",
     "output_type": "stream",
     "text": [
      "F-score =  0.8515037593984962\n"
     ]
    }
   ],
   "source": [
    "f_score = (2 * precision * recall) / (precision + recall)\n",
    "print(\"F-score = \", f_score)"
   ]
  },
  {
   "cell_type": "markdown",
   "metadata": {},
   "source": [
    "### Evaluate approach 2 (hierarchical clustering) - Domain-adaptive pre-trained"
   ]
  },
  {
   "cell_type": "code",
   "execution_count": 66,
   "metadata": {},
   "outputs": [],
   "source": [
    "approach_2_custom_dir = experiment_results_dir + 'results_approach_2_custom/'"
   ]
  },
  {
   "cell_type": "code",
   "execution_count": 67,
   "metadata": {},
   "outputs": [],
   "source": [
    "appr_clusters_dict = {}\n",
    "cluster_file = open(approach_2_custom_dir + 'appr_2_custom_cluster_labels.txt')\n",
    "for line in cluster_file:\n",
    "    full_line = line.split()\n",
    "    cluster_id = int(full_line[0].replace('[', '').replace(']', '').replace(':', ''))\n",
    "    step_id_list = full_line[1].split(',')\n",
    "    for step_id in step_id_list:\n",
    "        appr_clusters_dict[int(step_id)] = cluster_id"
   ]
  },
  {
   "cell_type": "code",
   "execution_count": 68,
   "metadata": {},
   "outputs": [
    {
     "name": "stdout",
     "output_type": "stream",
     "text": [
      "Number of test steps which were clustered by the approach:  15644\n"
     ]
    }
   ],
   "source": [
    "print(\"Number of test steps which were clustered by the approach: \", len(appr_clusters_dict))"
   ]
  },
  {
   "cell_type": "code",
   "execution_count": 69,
   "metadata": {},
   "outputs": [],
   "source": [
    "# Declare and initialize variables to compute F-score\n",
    "TP = 0\n",
    "FP = 0\n",
    "TN = 0\n",
    "FN = 0"
   ]
  },
  {
   "cell_type": "code",
   "execution_count": 70,
   "metadata": {},
   "outputs": [],
   "source": [
    "# Iterate through list of steps to evaluate\n",
    "for i in range(len(test_steps_to_evaluate_list)-1):\n",
    "    for j in range(i+1, len(test_steps_to_evaluate_list)):\n",
    "        step_id_1 = test_steps_to_evaluate_list[i]\n",
    "        step_id_2 = test_steps_to_evaluate_list[j]\n",
    "        \n",
    "        # true positive case\n",
    "        if (manual_clusters_dict[step_id_1] == manual_clusters_dict[step_id_2]) and (appr_clusters_dict[step_id_1] == appr_clusters_dict[step_id_2]):\n",
    "            TP += 1\n",
    "            \n",
    "        # false positive case\n",
    "        elif (manual_clusters_dict[step_id_1] != manual_clusters_dict[step_id_2]) and (appr_clusters_dict[step_id_1] == appr_clusters_dict[step_id_2]):\n",
    "            FP += 1\n",
    "            \n",
    "        # false negative case\n",
    "        elif (manual_clusters_dict[step_id_1] == manual_clusters_dict[step_id_2]) and (appr_clusters_dict[step_id_1] != appr_clusters_dict[step_id_2]):\n",
    "            FN += 1\n",
    "            \n",
    "        # true negative case\n",
    "        elif (manual_clusters_dict[step_id_1] != manual_clusters_dict[step_id_2]) and (appr_clusters_dict[step_id_1] != appr_clusters_dict[step_id_2]):\n",
    "            TN += 1"
   ]
  },
  {
   "cell_type": "code",
   "execution_count": 71,
   "metadata": {},
   "outputs": [
    {
     "name": "stdout",
     "output_type": "stream",
     "text": [
      "Precision =  0.9389473684210526\n",
      "Recall =  0.7865961199294532\n"
     ]
    }
   ],
   "source": [
    "precision = TP / (TP + FP)\n",
    "recall = TP / (TP + FN)\n",
    "print(\"Precision = \", precision)\n",
    "print(\"Recall = \", recall)"
   ]
  },
  {
   "cell_type": "code",
   "execution_count": 72,
   "metadata": {},
   "outputs": [
    {
     "name": "stdout",
     "output_type": "stream",
     "text": [
      "F-score =  0.8560460652591171\n"
     ]
    }
   ],
   "source": [
    "f_score = (2 * precision * recall) / (precision + recall)\n",
    "print(\"F-score = \", f_score)"
   ]
  },
  {
   "cell_type": "markdown",
   "metadata": {},
   "source": [
    "### Evaluate approach 2 (K-means) - Domain-adaptive pre-trained"
   ]
  },
  {
   "cell_type": "code",
   "execution_count": 74,
   "metadata": {},
   "outputs": [],
   "source": [
    "approach_2_custom_kmeans_dir = experiment_results_dir + 'results_approach_2_custom_kmeans/'"
   ]
  },
  {
   "cell_type": "code",
   "execution_count": 75,
   "metadata": {},
   "outputs": [],
   "source": [
    "appr_clusters_dict = {}\n",
    "cluster_file = open(approach_2_custom_kmeans_dir + 'appr_2_custom_kmeans_cluster_labels.txt')\n",
    "for line in cluster_file:\n",
    "    full_line = line.split()\n",
    "    cluster_id = int(full_line[0].replace('[', '').replace(']', '').replace(':', ''))\n",
    "    step_id_list = full_line[1].split(',')\n",
    "    for step_id in step_id_list:\n",
    "        appr_clusters_dict[int(step_id)] = cluster_id"
   ]
  },
  {
   "cell_type": "code",
   "execution_count": 76,
   "metadata": {},
   "outputs": [
    {
     "name": "stdout",
     "output_type": "stream",
     "text": [
      "Number of test steps which were clustered by the approach:  15644\n"
     ]
    }
   ],
   "source": [
    "print(\"Number of test steps which were clustered by the approach: \", len(appr_clusters_dict))"
   ]
  },
  {
   "cell_type": "code",
   "execution_count": 77,
   "metadata": {},
   "outputs": [],
   "source": [
    "# Declare and initialize variables to compute F-score\n",
    "TP = 0\n",
    "FP = 0\n",
    "TN = 0\n",
    "FN = 0"
   ]
  },
  {
   "cell_type": "code",
   "execution_count": 78,
   "metadata": {},
   "outputs": [],
   "source": [
    "# Iterate through list of steps to evaluate\n",
    "for i in range(len(test_steps_to_evaluate_list)-1):\n",
    "    for j in range(i+1, len(test_steps_to_evaluate_list)):\n",
    "        step_id_1 = test_steps_to_evaluate_list[i]\n",
    "        step_id_2 = test_steps_to_evaluate_list[j]\n",
    "        \n",
    "        # true positive case\n",
    "        if (manual_clusters_dict[step_id_1] == manual_clusters_dict[step_id_2]) and (appr_clusters_dict[step_id_1] == appr_clusters_dict[step_id_2]):\n",
    "            TP += 1\n",
    "            \n",
    "        # false positive case\n",
    "        elif (manual_clusters_dict[step_id_1] != manual_clusters_dict[step_id_2]) and (appr_clusters_dict[step_id_1] == appr_clusters_dict[step_id_2]):\n",
    "            FP += 1\n",
    "            \n",
    "        # false negative case\n",
    "        elif (manual_clusters_dict[step_id_1] == manual_clusters_dict[step_id_2]) and (appr_clusters_dict[step_id_1] != appr_clusters_dict[step_id_2]):\n",
    "            FN += 1\n",
    "            \n",
    "        # true negative case\n",
    "        elif (manual_clusters_dict[step_id_1] != manual_clusters_dict[step_id_2]) and (appr_clusters_dict[step_id_1] != appr_clusters_dict[step_id_2]):\n",
    "            TN += 1"
   ]
  },
  {
   "cell_type": "code",
   "execution_count": 79,
   "metadata": {},
   "outputs": [
    {
     "name": "stdout",
     "output_type": "stream",
     "text": [
      "Precision =  0.9429175475687104\n",
      "Recall =  0.7865961199294532\n"
     ]
    }
   ],
   "source": [
    "precision = TP / (TP + FP)\n",
    "recall = TP / (TP + FN)\n",
    "print(\"Precision = \", precision)\n",
    "print(\"Recall = \", recall)"
   ]
  },
  {
   "cell_type": "code",
   "execution_count": 80,
   "metadata": {},
   "outputs": [
    {
     "name": "stdout",
     "output_type": "stream",
     "text": [
      "F-score =  0.8576923076923076\n"
     ]
    }
   ],
   "source": [
    "f_score = (2 * precision * recall) / (precision + recall)\n",
    "print(\"F-score = \", f_score)"
   ]
  },
  {
   "cell_type": "markdown",
   "metadata": {},
   "source": [
    "### Evaluate approach 3 (hierarchical clustering)"
   ]
  },
  {
   "cell_type": "code",
   "execution_count": 82,
   "metadata": {},
   "outputs": [],
   "source": [
    "approach_3_dir = experiment_results_dir + 'results_approach_3/'"
   ]
  },
  {
   "cell_type": "code",
   "execution_count": 83,
   "metadata": {},
   "outputs": [],
   "source": [
    "appr_clusters_dict = {}\n",
    "cluster_file = open(approach_3_dir + 'appr_3_cluster_labels.txt')\n",
    "for line in cluster_file:\n",
    "    full_line = line.split()\n",
    "    cluster_id = int(full_line[0].replace('[', '').replace(']', '').replace(':', ''))\n",
    "    step_id_list = full_line[1].split(',')\n",
    "    for step_id in step_id_list:\n",
    "        appr_clusters_dict[int(step_id)] = cluster_id"
   ]
  },
  {
   "cell_type": "code",
   "execution_count": 84,
   "metadata": {},
   "outputs": [
    {
     "name": "stdout",
     "output_type": "stream",
     "text": [
      "Number of test steps which were clustered by the approach:  15644\n"
     ]
    }
   ],
   "source": [
    "print(\"Number of test steps which were clustered by the approach: \", len(appr_clusters_dict))"
   ]
  },
  {
   "cell_type": "code",
   "execution_count": 85,
   "metadata": {},
   "outputs": [],
   "source": [
    "# Declare and initialize variables to compute F-score\n",
    "TP = 0\n",
    "FP = 0\n",
    "TN = 0\n",
    "FN = 0"
   ]
  },
  {
   "cell_type": "code",
   "execution_count": 86,
   "metadata": {},
   "outputs": [],
   "source": [
    "# Iterate through list of steps to evaluate\n",
    "for i in range(len(test_steps_to_evaluate_list)-1):\n",
    "    for j in range(i+1, len(test_steps_to_evaluate_list)):\n",
    "        step_id_1 = test_steps_to_evaluate_list[i]\n",
    "        step_id_2 = test_steps_to_evaluate_list[j]\n",
    "        \n",
    "        # true positive case\n",
    "        if (manual_clusters_dict[step_id_1] == manual_clusters_dict[step_id_2]) and (appr_clusters_dict[step_id_1] == appr_clusters_dict[step_id_2]):\n",
    "            TP += 1\n",
    "            \n",
    "        # false positive case\n",
    "        elif (manual_clusters_dict[step_id_1] != manual_clusters_dict[step_id_2]) and (appr_clusters_dict[step_id_1] == appr_clusters_dict[step_id_2]):\n",
    "            FP += 1\n",
    "            \n",
    "        # false negative case\n",
    "        elif (manual_clusters_dict[step_id_1] == manual_clusters_dict[step_id_2]) and (appr_clusters_dict[step_id_1] != appr_clusters_dict[step_id_2]):\n",
    "            FN += 1\n",
    "            \n",
    "        # true negative case\n",
    "        elif (manual_clusters_dict[step_id_1] != manual_clusters_dict[step_id_2]) and (appr_clusters_dict[step_id_1] != appr_clusters_dict[step_id_2]):\n",
    "            TN += 1"
   ]
  },
  {
   "cell_type": "code",
   "execution_count": 87,
   "metadata": {},
   "outputs": [
    {
     "name": "stdout",
     "output_type": "stream",
     "text": [
      "Precision =  0.9466950959488273\n",
      "Recall =  0.783068783068783\n"
     ]
    }
   ],
   "source": [
    "precision = TP / (TP + FP)\n",
    "recall = TP / (TP + FN)\n",
    "print(\"Precision = \", precision)\n",
    "print(\"Recall = \", recall)"
   ]
  },
  {
   "cell_type": "code",
   "execution_count": 88,
   "metadata": {},
   "outputs": [
    {
     "name": "stdout",
     "output_type": "stream",
     "text": [
      "F-score =  0.857142857142857\n"
     ]
    }
   ],
   "source": [
    "f_score = (2 * precision * recall) / (precision + recall)\n",
    "print(\"F-score = \", f_score)"
   ]
  },
  {
   "cell_type": "markdown",
   "metadata": {},
   "source": [
    "### Evaluate approach 3 (K-means)"
   ]
  },
  {
   "cell_type": "code",
   "execution_count": 90,
   "metadata": {},
   "outputs": [],
   "source": [
    "approach_3_kmeans_dir = experiment_results_dir + 'results_approach_3_kmeans/'"
   ]
  },
  {
   "cell_type": "code",
   "execution_count": 91,
   "metadata": {},
   "outputs": [],
   "source": [
    "appr_clusters_dict = {}\n",
    "cluster_file = open(approach_3_kmeans_dir + 'appr_3_kmeans_cluster_labels.txt')\n",
    "for line in cluster_file:\n",
    "    full_line = line.split()\n",
    "    cluster_id = int(full_line[0].replace('[', '').replace(']', '').replace(':', ''))\n",
    "    step_id_list = full_line[1].split(',')\n",
    "    for step_id in step_id_list:\n",
    "        appr_clusters_dict[int(step_id)] = cluster_id"
   ]
  },
  {
   "cell_type": "code",
   "execution_count": 92,
   "metadata": {},
   "outputs": [
    {
     "name": "stdout",
     "output_type": "stream",
     "text": [
      "Number of test steps which were clustered by the approach:  15644\n"
     ]
    }
   ],
   "source": [
    "print(\"Number of test steps which were clustered by the approach: \", len(appr_clusters_dict))"
   ]
  },
  {
   "cell_type": "code",
   "execution_count": 93,
   "metadata": {},
   "outputs": [],
   "source": [
    "# Declare and initialize variables to compute F-score\n",
    "TP = 0\n",
    "FP = 0\n",
    "TN = 0\n",
    "FN = 0"
   ]
  },
  {
   "cell_type": "code",
   "execution_count": 94,
   "metadata": {},
   "outputs": [],
   "source": [
    "# Iterate through list of steps to evaluate\n",
    "for i in range(len(test_steps_to_evaluate_list)-1):\n",
    "    for j in range(i+1, len(test_steps_to_evaluate_list)):\n",
    "        step_id_1 = test_steps_to_evaluate_list[i]\n",
    "        step_id_2 = test_steps_to_evaluate_list[j]\n",
    "        \n",
    "        # true positive case\n",
    "        if (manual_clusters_dict[step_id_1] == manual_clusters_dict[step_id_2]) and (appr_clusters_dict[step_id_1] == appr_clusters_dict[step_id_2]):\n",
    "            TP += 1\n",
    "            \n",
    "        # false positive case\n",
    "        elif (manual_clusters_dict[step_id_1] != manual_clusters_dict[step_id_2]) and (appr_clusters_dict[step_id_1] == appr_clusters_dict[step_id_2]):\n",
    "            FP += 1\n",
    "            \n",
    "        # false negative case\n",
    "        elif (manual_clusters_dict[step_id_1] == manual_clusters_dict[step_id_2]) and (appr_clusters_dict[step_id_1] != appr_clusters_dict[step_id_2]):\n",
    "            FN += 1\n",
    "            \n",
    "        # true negative case\n",
    "        elif (manual_clusters_dict[step_id_1] != manual_clusters_dict[step_id_2]) and (appr_clusters_dict[step_id_1] != appr_clusters_dict[step_id_2]):\n",
    "            TN += 1"
   ]
  },
  {
   "cell_type": "code",
   "execution_count": 95,
   "metadata": {},
   "outputs": [
    {
     "name": "stdout",
     "output_type": "stream",
     "text": [
      "Precision =  0.9509594882729211\n",
      "Recall =  0.7865961199294532\n"
     ]
    }
   ],
   "source": [
    "precision = TP / (TP + FP)\n",
    "recall = TP / (TP + FN)\n",
    "print(\"Precision = \", precision)\n",
    "print(\"Recall = \", recall)"
   ]
  },
  {
   "cell_type": "code",
   "execution_count": 96,
   "metadata": {},
   "outputs": [
    {
     "name": "stdout",
     "output_type": "stream",
     "text": [
      "F-score =  0.8610038610038611\n"
     ]
    }
   ],
   "source": [
    "f_score = (2 * precision * recall) / (precision + recall)\n",
    "print(\"F-score = \", f_score)"
   ]
  },
  {
   "cell_type": "markdown",
   "metadata": {},
   "source": [
    "### Evaluate approach 4 (hierarchical clustering)"
   ]
  },
  {
   "cell_type": "code",
   "execution_count": 98,
   "metadata": {},
   "outputs": [],
   "source": [
    "approach_4_dir = experiment_results_dir + 'results_approach_4/'"
   ]
  },
  {
   "cell_type": "code",
   "execution_count": 99,
   "metadata": {},
   "outputs": [],
   "source": [
    "appr_clusters_dict = {}\n",
    "cluster_file = open(approach_4_dir + 'appr_4_cluster_labels.txt')\n",
    "for line in cluster_file:\n",
    "    full_line = line.split()\n",
    "    cluster_id = int(full_line[0].replace('[', '').replace(']', '').replace(':', ''))\n",
    "    step_id_list = full_line[1].split(',')\n",
    "    for step_id in step_id_list:\n",
    "        appr_clusters_dict[int(step_id)] = cluster_id"
   ]
  },
  {
   "cell_type": "code",
   "execution_count": 100,
   "metadata": {},
   "outputs": [
    {
     "name": "stdout",
     "output_type": "stream",
     "text": [
      "Number of test steps which were clustered by the approach:  15644\n"
     ]
    }
   ],
   "source": [
    "print(\"Number of test steps which were clustered by the approach: \", len(appr_clusters_dict))"
   ]
  },
  {
   "cell_type": "code",
   "execution_count": 101,
   "metadata": {},
   "outputs": [],
   "source": [
    "# Declare and initialize variables to compute F-score\n",
    "TP = 0\n",
    "FP = 0\n",
    "TN = 0\n",
    "FN = 0"
   ]
  },
  {
   "cell_type": "code",
   "execution_count": 102,
   "metadata": {},
   "outputs": [],
   "source": [
    "# Iterate through list of steps to evaluate\n",
    "for i in range(len(test_steps_to_evaluate_list)-1):\n",
    "    for j in range(i+1, len(test_steps_to_evaluate_list)):\n",
    "        step_id_1 = test_steps_to_evaluate_list[i]\n",
    "        step_id_2 = test_steps_to_evaluate_list[j]\n",
    "        \n",
    "        # true positive case\n",
    "        if (manual_clusters_dict[step_id_1] == manual_clusters_dict[step_id_2]) and (appr_clusters_dict[step_id_1] == appr_clusters_dict[step_id_2]):\n",
    "            TP += 1\n",
    "            \n",
    "        # false positive case\n",
    "        elif (manual_clusters_dict[step_id_1] != manual_clusters_dict[step_id_2]) and (appr_clusters_dict[step_id_1] == appr_clusters_dict[step_id_2]):\n",
    "            FP += 1\n",
    "            \n",
    "        # false negative case\n",
    "        elif (manual_clusters_dict[step_id_1] == manual_clusters_dict[step_id_2]) and (appr_clusters_dict[step_id_1] != appr_clusters_dict[step_id_2]):\n",
    "            FN += 1\n",
    "            \n",
    "        # true negative case\n",
    "        elif (manual_clusters_dict[step_id_1] != manual_clusters_dict[step_id_2]) and (appr_clusters_dict[step_id_1] != appr_clusters_dict[step_id_2]):\n",
    "            TN += 1"
   ]
  },
  {
   "cell_type": "code",
   "execution_count": 103,
   "metadata": {},
   "outputs": [
    {
     "name": "stdout",
     "output_type": "stream",
     "text": [
      "Precision =  0.9026369168356998\n",
      "Recall =  0.7848324514991182\n"
     ]
    }
   ],
   "source": [
    "precision = TP / (TP + FP)\n",
    "recall = TP / (TP + FN)\n",
    "print(\"Precision = \", precision)\n",
    "print(\"Recall = \", recall)"
   ]
  },
  {
   "cell_type": "code",
   "execution_count": 104,
   "metadata": {},
   "outputs": [
    {
     "name": "stdout",
     "output_type": "stream",
     "text": [
      "F-score =  0.839622641509434\n"
     ]
    }
   ],
   "source": [
    "f_score = (2 * precision * recall) / (precision + recall)\n",
    "print(\"F-score = \", f_score)"
   ]
  },
  {
   "cell_type": "markdown",
   "metadata": {},
   "source": [
    "### Evaluate approach 4 (K-means)"
   ]
  },
  {
   "cell_type": "code",
   "execution_count": 106,
   "metadata": {},
   "outputs": [],
   "source": [
    "approach_4_kmeans_dir = experiment_results_dir + 'results_approach_4_kmeans/'"
   ]
  },
  {
   "cell_type": "code",
   "execution_count": 107,
   "metadata": {},
   "outputs": [],
   "source": [
    "appr_clusters_dict = {}\n",
    "cluster_file = open(approach_4_kmeans_dir + 'appr_4_kmeans_cluster_labels.txt')\n",
    "for line in cluster_file:\n",
    "    full_line = line.split()\n",
    "    cluster_id = int(full_line[0].replace('[', '').replace(']', '').replace(':', ''))\n",
    "    step_id_list = full_line[1].split(',')\n",
    "    for step_id in step_id_list:\n",
    "        appr_clusters_dict[int(step_id)] = cluster_id"
   ]
  },
  {
   "cell_type": "code",
   "execution_count": 108,
   "metadata": {},
   "outputs": [
    {
     "name": "stdout",
     "output_type": "stream",
     "text": [
      "Number of test steps which were clustered by the approach:  15644\n"
     ]
    }
   ],
   "source": [
    "print(\"Number of test steps which were clustered by the approach: \", len(appr_clusters_dict))"
   ]
  },
  {
   "cell_type": "code",
   "execution_count": 109,
   "metadata": {},
   "outputs": [],
   "source": [
    "# Declare and initialize variables to compute F-score\n",
    "TP = 0\n",
    "FP = 0\n",
    "TN = 0\n",
    "FN = 0"
   ]
  },
  {
   "cell_type": "code",
   "execution_count": 110,
   "metadata": {},
   "outputs": [],
   "source": [
    "# Iterate through list of steps to evaluate\n",
    "for i in range(len(test_steps_to_evaluate_list)-1):\n",
    "    for j in range(i+1, len(test_steps_to_evaluate_list)):\n",
    "        step_id_1 = test_steps_to_evaluate_list[i]\n",
    "        step_id_2 = test_steps_to_evaluate_list[j]\n",
    "        \n",
    "        # true positive case\n",
    "        if (manual_clusters_dict[step_id_1] == manual_clusters_dict[step_id_2]) and (appr_clusters_dict[step_id_1] == appr_clusters_dict[step_id_2]):\n",
    "            TP += 1\n",
    "            \n",
    "        # false positive case\n",
    "        elif (manual_clusters_dict[step_id_1] != manual_clusters_dict[step_id_2]) and (appr_clusters_dict[step_id_1] == appr_clusters_dict[step_id_2]):\n",
    "            FP += 1\n",
    "            \n",
    "        # false negative case\n",
    "        elif (manual_clusters_dict[step_id_1] == manual_clusters_dict[step_id_2]) and (appr_clusters_dict[step_id_1] != appr_clusters_dict[step_id_2]):\n",
    "            FN += 1\n",
    "            \n",
    "        # true negative case\n",
    "        elif (manual_clusters_dict[step_id_1] != manual_clusters_dict[step_id_2]) and (appr_clusters_dict[step_id_1] != appr_clusters_dict[step_id_2]):\n",
    "            TN += 1"
   ]
  },
  {
   "cell_type": "code",
   "execution_count": 111,
   "metadata": {},
   "outputs": [
    {
     "name": "stdout",
     "output_type": "stream",
     "text": [
      "Precision =  0.8691588785046729\n",
      "Recall =  0.8201058201058201\n"
     ]
    }
   ],
   "source": [
    "precision = TP / (TP + FP)\n",
    "recall = TP / (TP + FN)\n",
    "print(\"Precision = \", precision)\n",
    "print(\"Recall = \", recall)"
   ]
  },
  {
   "cell_type": "code",
   "execution_count": 112,
   "metadata": {},
   "outputs": [
    {
     "name": "stdout",
     "output_type": "stream",
     "text": [
      "F-score =  0.8439201451905626\n"
     ]
    }
   ],
   "source": [
    "f_score = (2 * precision * recall) / (precision + recall)\n",
    "print(\"F-score = \", f_score)"
   ]
  },
  {
   "cell_type": "markdown",
   "metadata": {},
   "source": [
    "### Evaluate approach 5 (hierarhical clustering)"
   ]
  },
  {
   "cell_type": "code",
   "execution_count": 114,
   "metadata": {},
   "outputs": [],
   "source": [
    "approach_5_dir = experiment_results_dir + 'results_approach_5/'"
   ]
  },
  {
   "cell_type": "code",
   "execution_count": 115,
   "metadata": {},
   "outputs": [],
   "source": [
    "appr_clusters_dict = {}\n",
    "cluster_file = open(approach_5_dir + 'appr_5_cluster_labels.txt')\n",
    "for line in cluster_file:\n",
    "    full_line = line.split()\n",
    "    cluster_id = int(full_line[0].replace('[', '').replace(']', '').replace(':', ''))\n",
    "    step_id_list = full_line[1].split(',')\n",
    "    for step_id in step_id_list:\n",
    "        appr_clusters_dict[int(step_id)] = cluster_id"
   ]
  },
  {
   "cell_type": "code",
   "execution_count": 116,
   "metadata": {},
   "outputs": [
    {
     "name": "stdout",
     "output_type": "stream",
     "text": [
      "Number of test steps which were clustered by the approach:  15644\n"
     ]
    }
   ],
   "source": [
    "print(\"Number of test steps which were clustered by the approach: \", len(appr_clusters_dict))"
   ]
  },
  {
   "cell_type": "code",
   "execution_count": 117,
   "metadata": {},
   "outputs": [],
   "source": [
    "# Declare and initialize variables to compute F-score\n",
    "TP = 0\n",
    "FP = 0\n",
    "TN = 0\n",
    "FN = 0"
   ]
  },
  {
   "cell_type": "code",
   "execution_count": 118,
   "metadata": {},
   "outputs": [],
   "source": [
    "# Iterate through list of steps to evaluate\n",
    "for i in range(len(test_steps_to_evaluate_list)-1):\n",
    "    for j in range(i+1, len(test_steps_to_evaluate_list)):\n",
    "        step_id_1 = test_steps_to_evaluate_list[i]\n",
    "        step_id_2 = test_steps_to_evaluate_list[j]\n",
    "        \n",
    "        # true positive case\n",
    "        if (manual_clusters_dict[step_id_1] == manual_clusters_dict[step_id_2]) and (appr_clusters_dict[step_id_1] == appr_clusters_dict[step_id_2]):\n",
    "            TP += 1\n",
    "            \n",
    "        # false positive case\n",
    "        elif (manual_clusters_dict[step_id_1] != manual_clusters_dict[step_id_2]) and (appr_clusters_dict[step_id_1] == appr_clusters_dict[step_id_2]):\n",
    "            FP += 1\n",
    "            \n",
    "        # false negative case\n",
    "        elif (manual_clusters_dict[step_id_1] == manual_clusters_dict[step_id_2]) and (appr_clusters_dict[step_id_1] != appr_clusters_dict[step_id_2]):\n",
    "            FN += 1\n",
    "            \n",
    "        # true negative case\n",
    "        elif (manual_clusters_dict[step_id_1] != manual_clusters_dict[step_id_2]) and (appr_clusters_dict[step_id_1] != appr_clusters_dict[step_id_2]):\n",
    "            TN += 1"
   ]
  },
  {
   "cell_type": "code",
   "execution_count": 119,
   "metadata": {},
   "outputs": [
    {
     "name": "stdout",
     "output_type": "stream",
     "text": [
      "Precision =  0.9189723320158103\n",
      "Recall =  0.8201058201058201\n"
     ]
    }
   ],
   "source": [
    "precision = TP / (TP + FP)\n",
    "recall = TP / (TP + FN)\n",
    "print(\"Precision = \", precision)\n",
    "print(\"Recall = \", recall)"
   ]
  },
  {
   "cell_type": "code",
   "execution_count": 120,
   "metadata": {},
   "outputs": [
    {
     "name": "stdout",
     "output_type": "stream",
     "text": [
      "F-score =  0.8667287977632805\n"
     ]
    }
   ],
   "source": [
    "f_score = (2 * precision * recall) / (precision + recall)\n",
    "print(\"F-score = \", f_score)"
   ]
  },
  {
   "cell_type": "markdown",
   "metadata": {},
   "source": [
    "### Evaluate approach 5 (K-means)"
   ]
  },
  {
   "cell_type": "code",
   "execution_count": 122,
   "metadata": {},
   "outputs": [],
   "source": [
    "approach_5_kmeans_dir = experiment_results_dir + 'results_approach_5_kmeans/'"
   ]
  },
  {
   "cell_type": "code",
   "execution_count": 123,
   "metadata": {},
   "outputs": [],
   "source": [
    "appr_clusters_dict = {}\n",
    "cluster_file = open(approach_5_kmeans_dir + 'appr_5_kmeans_cluster_labels.txt')\n",
    "for line in cluster_file:\n",
    "    full_line = line.split()\n",
    "    cluster_id = int(full_line[0].replace('[', '').replace(']', '').replace(':', ''))\n",
    "    step_id_list = full_line[1].split(',')\n",
    "    for step_id in step_id_list:\n",
    "        appr_clusters_dict[int(step_id)] = cluster_id"
   ]
  },
  {
   "cell_type": "code",
   "execution_count": 124,
   "metadata": {},
   "outputs": [
    {
     "name": "stdout",
     "output_type": "stream",
     "text": [
      "Number of test steps which were clustered by the approach:  15644\n"
     ]
    }
   ],
   "source": [
    "print(\"Number of test steps which were clustered by the approach: \", len(appr_clusters_dict))"
   ]
  },
  {
   "cell_type": "code",
   "execution_count": 125,
   "metadata": {},
   "outputs": [],
   "source": [
    "# Declare and initialize variables to compute F-score\n",
    "TP = 0\n",
    "FP = 0\n",
    "TN = 0\n",
    "FN = 0"
   ]
  },
  {
   "cell_type": "code",
   "execution_count": 126,
   "metadata": {},
   "outputs": [],
   "source": [
    "# Iterate through list of steps to evaluate\n",
    "for i in range(len(test_steps_to_evaluate_list)-1):\n",
    "    for j in range(i+1, len(test_steps_to_evaluate_list)):\n",
    "        step_id_1 = test_steps_to_evaluate_list[i]\n",
    "        step_id_2 = test_steps_to_evaluate_list[j]\n",
    "        \n",
    "        # true positive case\n",
    "        if (manual_clusters_dict[step_id_1] == manual_clusters_dict[step_id_2]) and (appr_clusters_dict[step_id_1] == appr_clusters_dict[step_id_2]):\n",
    "            TP += 1\n",
    "            \n",
    "        # false positive case\n",
    "        elif (manual_clusters_dict[step_id_1] != manual_clusters_dict[step_id_2]) and (appr_clusters_dict[step_id_1] == appr_clusters_dict[step_id_2]):\n",
    "            FP += 1\n",
    "            \n",
    "        # false negative case\n",
    "        elif (manual_clusters_dict[step_id_1] == manual_clusters_dict[step_id_2]) and (appr_clusters_dict[step_id_1] != appr_clusters_dict[step_id_2]):\n",
    "            FN += 1\n",
    "            \n",
    "        # true negative case\n",
    "        elif (manual_clusters_dict[step_id_1] != manual_clusters_dict[step_id_2]) and (appr_clusters_dict[step_id_1] != appr_clusters_dict[step_id_2]):\n",
    "            TN += 1"
   ]
  },
  {
   "cell_type": "code",
   "execution_count": 127,
   "metadata": {},
   "outputs": [
    {
     "name": "stdout",
     "output_type": "stream",
     "text": [
      "Precision =  0.918\n",
      "Recall =  0.8095238095238095\n"
     ]
    }
   ],
   "source": [
    "precision = TP / (TP + FP)\n",
    "recall = TP / (TP + FN)\n",
    "print(\"Precision = \", precision)\n",
    "print(\"Recall = \", recall)"
   ]
  },
  {
   "cell_type": "code",
   "execution_count": 128,
   "metadata": {},
   "outputs": [
    {
     "name": "stdout",
     "output_type": "stream",
     "text": [
      "F-score =  0.8603561387066543\n"
     ]
    }
   ],
   "source": [
    "f_score = (2 * precision * recall) / (precision + recall)\n",
    "print(\"F-score = \", f_score)"
   ]
  },
  {
   "cell_type": "markdown",
   "metadata": {},
   "source": [
    "### Evaluate Baseline 1 - Exact same steps"
   ]
  },
  {
   "cell_type": "code",
   "execution_count": 130,
   "metadata": {},
   "outputs": [],
   "source": [
    "baseline_1_dir = experiment_results_dir + 'baseline_1/'"
   ]
  },
  {
   "cell_type": "code",
   "execution_count": 131,
   "metadata": {},
   "outputs": [],
   "source": [
    "appr_clusters_dict = {}\n",
    "cluster_file = open(baseline_1_dir + 'baseline_1_cluster_labels.txt')\n",
    "for line in cluster_file:\n",
    "    full_line = line.split()\n",
    "    cluster_id = int(full_line[0].replace('[', '').replace(']', '').replace(':', ''))\n",
    "    step_id_list = full_line[1].split(',')\n",
    "    for step_id in step_id_list:\n",
    "        appr_clusters_dict[int(step_id)] = cluster_id"
   ]
  },
  {
   "cell_type": "code",
   "execution_count": 132,
   "metadata": {},
   "outputs": [
    {
     "name": "stdout",
     "output_type": "stream",
     "text": [
      "Number of test steps which were clustered by the approach:  15644\n"
     ]
    }
   ],
   "source": [
    "print(\"Number of test steps which were clustered by the approach: \", len(appr_clusters_dict))"
   ]
  },
  {
   "cell_type": "code",
   "execution_count": 133,
   "metadata": {},
   "outputs": [],
   "source": [
    "# Declare and initialize variables to compute F-score\n",
    "TP = 0\n",
    "FP = 0\n",
    "TN = 0\n",
    "FN = 0"
   ]
  },
  {
   "cell_type": "code",
   "execution_count": 134,
   "metadata": {},
   "outputs": [],
   "source": [
    "# Iterate through list of steps to evaluate\n",
    "for i in range(len(test_steps_to_evaluate_list)-1):\n",
    "    for j in range(i+1, len(test_steps_to_evaluate_list)):\n",
    "        step_id_1 = test_steps_to_evaluate_list[i]\n",
    "        step_id_2 = test_steps_to_evaluate_list[j]\n",
    "        \n",
    "        # true positive case\n",
    "        if (manual_clusters_dict[step_id_1] == manual_clusters_dict[step_id_2]) and (appr_clusters_dict[step_id_1] == appr_clusters_dict[step_id_2]):\n",
    "            TP += 1\n",
    "            \n",
    "        # false positive case\n",
    "        elif (manual_clusters_dict[step_id_1] != manual_clusters_dict[step_id_2]) and (appr_clusters_dict[step_id_1] == appr_clusters_dict[step_id_2]):\n",
    "            FP += 1\n",
    "            \n",
    "        # false negative case\n",
    "        elif (manual_clusters_dict[step_id_1] == manual_clusters_dict[step_id_2]) and (appr_clusters_dict[step_id_1] != appr_clusters_dict[step_id_2]):\n",
    "            FN += 1\n",
    "            \n",
    "        # true negative case\n",
    "        elif (manual_clusters_dict[step_id_1] != manual_clusters_dict[step_id_2]) and (appr_clusters_dict[step_id_1] != appr_clusters_dict[step_id_2]):\n",
    "            TN += 1"
   ]
  },
  {
   "cell_type": "code",
   "execution_count": 135,
   "metadata": {},
   "outputs": [
    {
     "name": "stdout",
     "output_type": "stream",
     "text": [
      "Precision =  1.0\n",
      "Recall =  0.5432098765432098\n"
     ]
    }
   ],
   "source": [
    "precision = TP / (TP + FP)\n",
    "recall = TP / (TP + FN)\n",
    "print(\"Precision = \", precision)\n",
    "print(\"Recall = \", recall)"
   ]
  },
  {
   "cell_type": "code",
   "execution_count": 136,
   "metadata": {},
   "outputs": [
    {
     "name": "stdout",
     "output_type": "stream",
     "text": [
      "F-score =  0.704\n"
     ]
    }
   ],
   "source": [
    "f_score = (2 * precision * recall) / (precision + recall)\n",
    "print(\"F-score = \", f_score)"
   ]
  },
  {
   "cell_type": "markdown",
   "metadata": {},
   "source": [
    "### Evaluate Baseline 2 - WMD = 0"
   ]
  },
  {
   "cell_type": "code",
   "execution_count": 137,
   "metadata": {},
   "outputs": [],
   "source": [
    "baseline_2_dir = experiment_results_dir + 'baseline_2/'"
   ]
  },
  {
   "cell_type": "code",
   "execution_count": 138,
   "metadata": {},
   "outputs": [],
   "source": [
    "appr_clusters_dict = {}\n",
    "cluster_file = open(baseline_2_dir + 'baseline_2_cluster_labels.txt')\n",
    "for line in cluster_file:\n",
    "    full_line = line.split()\n",
    "    cluster_id = int(full_line[0].replace('[', '').replace(']', '').replace(':', ''))\n",
    "    step_id_list = full_line[1].split(',')\n",
    "    for step_id in step_id_list:\n",
    "        appr_clusters_dict[int(step_id)] = cluster_id\n",
    "cluster_file.close()"
   ]
  },
  {
   "cell_type": "code",
   "execution_count": 139,
   "metadata": {},
   "outputs": [
    {
     "name": "stdout",
     "output_type": "stream",
     "text": [
      "Number of test steps which were clustered by the approach:  15644\n"
     ]
    }
   ],
   "source": [
    "print(\"Number of test steps which were clustered by the approach: \", len(appr_clusters_dict))"
   ]
  },
  {
   "cell_type": "code",
   "execution_count": 140,
   "metadata": {},
   "outputs": [],
   "source": [
    "# Declare and initialize variables to compute F-score\n",
    "TP = 0\n",
    "FP = 0\n",
    "TN = 0\n",
    "FN = 0"
   ]
  },
  {
   "cell_type": "code",
   "execution_count": 141,
   "metadata": {},
   "outputs": [],
   "source": [
    "# Iterate through list of steps to evaluate\n",
    "for i in range(len(test_steps_to_evaluate_list)-1):\n",
    "    for j in range(i+1, len(test_steps_to_evaluate_list)):\n",
    "        step_id_1 = test_steps_to_evaluate_list[i]\n",
    "        step_id_2 = test_steps_to_evaluate_list[j]\n",
    "        \n",
    "        try:\n",
    "            # true positive case\n",
    "            if (manual_clusters_dict[step_id_1] == manual_clusters_dict[step_id_2]) and (appr_clusters_dict[step_id_1] == appr_clusters_dict[step_id_2]):\n",
    "                TP += 1\n",
    "\n",
    "            # false positive case\n",
    "            elif (manual_clusters_dict[step_id_1] != manual_clusters_dict[step_id_2]) and (appr_clusters_dict[step_id_1] == appr_clusters_dict[step_id_2]):\n",
    "                FP += 1\n",
    "\n",
    "            # false negative case\n",
    "            elif (manual_clusters_dict[step_id_1] == manual_clusters_dict[step_id_2]) and (appr_clusters_dict[step_id_1] != appr_clusters_dict[step_id_2]):\n",
    "                FN += 1\n",
    "\n",
    "            # true negative case\n",
    "            elif (manual_clusters_dict[step_id_1] != manual_clusters_dict[step_id_2]) and (appr_clusters_dict[step_id_1] != appr_clusters_dict[step_id_2]):\n",
    "                TN += 1\n",
    "        except:\n",
    "            continue"
   ]
  },
  {
   "cell_type": "code",
   "execution_count": null,
   "metadata": {},
   "outputs": [],
   "source": [
    "precision = TP / (TP + FP)\n",
    "recall = TP / (TP + FN)\n",
    "print(\"Precision = \", precision)\n",
    "print(\"Recall = \", recall)"
   ]
  },
  {
   "cell_type": "code",
   "execution_count": null,
   "metadata": {},
   "outputs": [],
   "source": [
    "f_score = (2 * precision * recall) / (precision + recall)\n",
    "print(\"F-score = \", f_score)"
   ]
  }
 ],
 "metadata": {
  "kernelspec": {
   "display_name": "Python 3",
   "language": "python",
   "name": "python3"
  },
  "language_info": {
   "codemirror_mode": {
    "name": "ipython",
    "version": 3
   },
   "file_extension": ".py",
   "mimetype": "text/x-python",
   "name": "python",
   "nbconvert_exporter": "python",
   "pygments_lexer": "ipython3",
   "version": "3.6.8"
  }
 },
 "nbformat": 4,
 "nbformat_minor": 2
}
